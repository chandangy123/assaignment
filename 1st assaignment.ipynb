{
 "cells": [
  {
   "cell_type": "markdown",
   "id": "710a92bb",
   "metadata": {},
   "source": [
    "###1. In the below elements which of them are values or an expression? eg:- values can be\n",
    "integer or string and expressions will be mathematical operators.\n",
    "*\n",
    "'hello'\n",
    "-87.8\n",
    "-\n",
    "/\n",
    "+\n",
    "6"
   ]
  },
  {
   "cell_type": "markdown",
   "id": "8986eb6b",
   "metadata": {},
   "source": [
    "answer: values are -87.8, 6, 'hello'\n",
    "        expressions are *,-,/,+\n",
    "        "
   ]
  },
  {
   "cell_type": "markdown",
   "id": "d2c91d98",
   "metadata": {},
   "source": [
    "###2. What is the difference between string and variable?"
   ]
  },
  {
   "cell_type": "markdown",
   "id": "678cdd10",
   "metadata": {},
   "source": [
    "string are the values which are in the form of characters which need to be mentioned inside the \" \"(quotation) and this string is a one of the data type\n",
    "variable are value holding location that is we are assaigning some values to some names those names are called variables, for example x=56, here x is a variable "
   ]
  },
  {
   "cell_type": "markdown",
   "id": "ba6d2ff3",
   "metadata": {},
   "source": [
    "###Describe three different data types."
   ]
  },
  {
   "cell_type": "markdown",
   "id": "ddacaa49",
   "metadata": {},
   "source": [
    "three different data types are\n",
    "integers, example 4,56,78,978,234, etc..\n",
    "float,  example 3.45, 5.00, 456.789, etc..\n",
    "string, example 'chandan', 'yashaswini','anand agricultural university', etc.."
   ]
  },
  {
   "cell_type": "markdown",
   "id": "cc95bf67",
   "metadata": {},
   "source": [
    "###What is an expression made up of? What do all expressions do?"
   ]
  },
  {
   "cell_type": "markdown",
   "id": "bb76a4c9",
   "metadata": {},
   "source": [
    "expression is a set of values,variables,strings and operators , once if we defined and if called it executes a result\n",
    "example 5*3+6-4/2 this is a expresion\n",
    "or may be \n",
    "x=5*3+6-4/2\n",
    "print(x)\n"
   ]
  },
  {
   "cell_type": "code",
   "execution_count": 3,
   "id": "5fc49028",
   "metadata": {},
   "outputs": [
    {
     "data": {
      "text/plain": [
       "19.0"
      ]
     },
     "execution_count": 3,
     "metadata": {},
     "output_type": "execute_result"
    }
   ],
   "source": [
    "x=5*3+6-4/2\n",
    "x"
   ]
  },
  {
   "cell_type": "code",
   "execution_count": 5,
   "id": "0b281ff9",
   "metadata": {},
   "outputs": [
    {
     "name": "stdout",
     "output_type": "stream",
     "text": [
      "20\n"
     ]
    }
   ],
   "source": [
    "x=4\n",
    "y=5\n",
    "print(x*y)"
   ]
  },
  {
   "cell_type": "markdown",
   "id": "93c923f6",
   "metadata": {},
   "source": [
    "###This assignment statements, like spam = 10. What is the difference between an\n",
    "expression and a statement?"
   ]
  },
  {
   "cell_type": "code",
   "execution_count": 7,
   "id": "c94c9af5",
   "metadata": {},
   "outputs": [
    {
     "data": {
      "text/plain": [
       "19.0"
      ]
     },
     "execution_count": 7,
     "metadata": {},
     "output_type": "execute_result"
    }
   ],
   "source": [
    "#expression means as i mentioned above \n",
    "x=5*3+6-4/2\n",
    "x"
   ]
  },
  {
   "cell_type": "code",
   "execution_count": 8,
   "id": "b1620737",
   "metadata": {},
   "outputs": [
    {
     "name": "stdout",
     "output_type": "stream",
     "text": [
      "enter ur namechandu\n",
      "i love you  chandu\n"
     ]
    }
   ],
   "source": [
    "#statement means as a print statement\n",
    "y=input(\"enter ur name\")\n",
    "print(\"i love you \", y)"
   ]
  },
  {
   "cell_type": "code",
   "execution_count": 10,
   "id": "18e12da6",
   "metadata": {},
   "outputs": [
    {
     "name": "stdout",
     "output_type": "stream",
     "text": [
      "enter the number6\n",
      "it is greater\n"
     ]
    }
   ],
   "source": [
    "#or statement may be if else statement for example\n",
    "x=int(input('enter the number'))\n",
    "if x>5:\n",
    "    print('it is greater')\n",
    "else:\n",
    "    print('lesser')"
   ]
  },
  {
   "cell_type": "markdown",
   "id": "65857174",
   "metadata": {},
   "source": [
    "###After running the following code, what does the variable bacon contain?\n",
    "bacon = 22\n",
    "bacon + 1"
   ]
  },
  {
   "cell_type": "code",
   "execution_count": 14,
   "id": "d485eacb",
   "metadata": {},
   "outputs": [
    {
     "data": {
      "text/plain": [
       "23"
      ]
     },
     "execution_count": 14,
     "metadata": {},
     "output_type": "execute_result"
    }
   ],
   "source": [
    "bacon = 22 \n",
    "bacon + 1"
   ]
  },
  {
   "cell_type": "code",
   "execution_count": 16,
   "id": "318bb094",
   "metadata": {},
   "outputs": [
    {
     "data": {
      "text/plain": [
       "22"
      ]
     },
     "execution_count": 16,
     "metadata": {},
     "output_type": "execute_result"
    }
   ],
   "source": [
    "\"\"\"if we just run that we get 23\n",
    "but if we fetch again the bacon it gives its original value\"\"\"\n",
    "bacon"
   ]
  },
  {
   "cell_type": "markdown",
   "id": "0fe937c7",
   "metadata": {},
   "source": [
    "if we want to avoid that we need to use further the result means we need to assaign variable for that operation , as i mentioned below"
   ]
  },
  {
   "cell_type": "code",
   "execution_count": 19,
   "id": "497e2d23",
   "metadata": {},
   "outputs": [],
   "source": [
    "bacon = 22 \n",
    "x=bacon + 1"
   ]
  },
  {
   "cell_type": "code",
   "execution_count": 20,
   "id": "2877e3e0",
   "metadata": {},
   "outputs": [
    {
     "data": {
      "text/plain": [
       "23"
      ]
     },
     "execution_count": 20,
     "metadata": {},
     "output_type": "execute_result"
    }
   ],
   "source": [
    "x"
   ]
  },
  {
   "cell_type": "markdown",
   "id": "4f5a03f2",
   "metadata": {},
   "source": [
    "###What should the values of the following two terms be? 'spam' + 'spamspam'\n",
    "'spam' * 3\n"
   ]
  },
  {
   "cell_type": "code",
   "execution_count": 22,
   "id": "3a829ab1",
   "metadata": {},
   "outputs": [
    {
     "data": {
      "text/plain": [
       "'spamspamspam'"
      ]
     },
     "execution_count": 22,
     "metadata": {},
     "output_type": "execute_result"
    }
   ],
   "source": [
    "'spam' + 'spamspam'\n"
   ]
  },
  {
   "cell_type": "code",
   "execution_count": 23,
   "id": "d73a0092",
   "metadata": {},
   "outputs": [
    {
     "data": {
      "text/plain": [
       "'spamspamspam'"
      ]
     },
     "execution_count": 23,
     "metadata": {},
     "output_type": "execute_result"
    }
   ],
   "source": [
    "'spam' * 3"
   ]
  },
  {
   "cell_type": "code",
   "execution_count": 24,
   "id": "20dfb9f7",
   "metadata": {},
   "outputs": [
    {
     "data": {
      "text/plain": [
       "'spamspamspam'"
      ]
     },
     "execution_count": 24,
     "metadata": {},
     "output_type": "execute_result"
    }
   ],
   "source": [
    "'spam' + 'spamspam'\n",
    "'spam' * 3"
   ]
  },
  {
   "cell_type": "markdown",
   "id": "e9b2f296",
   "metadata": {},
   "source": [
    "###Why is eggs a valid variable name while 100 is invalid?"
   ]
  },
  {
   "cell_type": "markdown",
   "id": "6e0d0130",
   "metadata": {},
   "source": [
    "because eggs are written in letters most of the programming language do not take variable name starting with digits and starting wityh special character and all , so that eggs are valid variable name and 100 is invalid variable name"
   ]
  },
  {
   "cell_type": "markdown",
   "id": "172dafd1",
   "metadata": {},
   "source": [
    "###What three functions can be used to get the integer, floating-point number, or string\n",
    "version of a value?"
   ]
  },
  {
   "cell_type": "markdown",
   "id": "67df4faf",
   "metadata": {},
   "source": [
    "functions used are\n",
    "int()\n",
    "float()\n",
    "str()"
   ]
  },
  {
   "cell_type": "markdown",
   "id": "ea6329a4",
   "metadata": {},
   "source": [
    "###Why does this expression cause an error? How can you fix it?\n",
    " 'I have eaten' + 99 +' burritos.'"
   ]
  },
  {
   "cell_type": "markdown",
   "id": "3998e5f0",
   "metadata": {},
   "source": [
    "because in this expression we are trying to add string to integer , thats not at all posiible so the corrected one is"
   ]
  },
  {
   "cell_type": "code",
   "execution_count": 28,
   "id": "2934c0f7",
   "metadata": {},
   "outputs": [
    {
     "data": {
      "text/plain": [
       "'I have eaten99 burritos.'"
      ]
     },
     "execution_count": 28,
     "metadata": {},
     "output_type": "execute_result"
    }
   ],
   "source": [
    "'I have eaten' + str(99) +' burritos.'"
   ]
  },
  {
   "cell_type": "code",
   "execution_count": null,
   "id": "7c2cb468",
   "metadata": {},
   "outputs": [],
   "source": []
  }
 ],
 "metadata": {
  "kernelspec": {
   "display_name": "Python 3 (ipykernel)",
   "language": "python",
   "name": "python3"
  },
  "language_info": {
   "codemirror_mode": {
    "name": "ipython",
    "version": 3
   },
   "file_extension": ".py",
   "mimetype": "text/x-python",
   "name": "python",
   "nbconvert_exporter": "python",
   "pygments_lexer": "ipython3",
   "version": "3.10.9"
  }
 },
 "nbformat": 4,
 "nbformat_minor": 5
}
