{
 "cells": [
  {
   "cell_type": "markdown",
   "id": "e6271116",
   "metadata": {},
   "source": [
    "### 1 Why are functions advantageous to have in your programs?"
   ]
  },
  {
   "cell_type": "markdown",
   "id": "22928442",
   "metadata": {},
   "source": [
    "*functions helps in breaking larger code into smaller and simpler code\n",
    "*once we define the function we can call at any number of times, so that size of big coding can be reduced.\n",
    "*we can reuse of the code.\n",
    "*through the function we can solve a very complex problems without knowing the any big equations and all.\n",
    "*code which we entered inside the defined function is easily readable and understandable.\n",
    "*with the use of functions we can use if and else condition or try and except method accuratly and easily.\n",
    "*in working with big projects , team members can devide their part of work through the dividing of the perticular functions."
   ]
  },
  {
   "cell_type": "markdown",
   "id": "4b2a32b2",
   "metadata": {},
   "source": [
    "### 2 When does the code in a function run: when it&#39;s specified or when it&#39;s called?"
   ]
  },
  {
   "cell_type": "markdown",
   "id": "40719560",
   "metadata": {},
   "source": [
    "the defined function will only execute when we call only\n",
    "if we defined and not called means its not get exicuted"
   ]
  },
  {
   "cell_type": "markdown",
   "id": "7ed3ffd9",
   "metadata": {},
   "source": [
    "### 3 What statement creates a function?"
   ]
  },
  {
   "cell_type": "code",
   "execution_count": 3,
   "id": "12ae387d",
   "metadata": {},
   "outputs": [
    {
     "name": "stdout",
     "output_type": "stream",
     "text": [
      "hello chandu\n"
     ]
    }
   ],
   "source": [
    "#def statement create the function\n",
    "\n",
    "def gyc():\n",
    "    print(\"hello chandu\")\n",
    "gyc()"
   ]
  },
  {
   "cell_type": "markdown",
   "id": "b1a7e953",
   "metadata": {},
   "source": [
    "### 4 What is the difference between a function and a function call?"
   ]
  },
  {
   "cell_type": "code",
   "execution_count": 4,
   "id": "aa47d2f2",
   "metadata": {},
   "outputs": [
    {
     "data": {
      "text/plain": [
       "7"
      ]
     },
     "execution_count": 4,
     "metadata": {},
     "output_type": "execute_result"
    }
   ],
   "source": [
    "#function: function is defined statement which can be reusable code , and it may have input value and return the result after exicuting\n",
    "#for example:\n",
    "def funct(a,b):\n",
    "    return a+b\n",
    "#this is upto function\n",
    "\n",
    "##function calling means: its a guide which is given by user to execute that particular statement inside the function\n",
    "##for example\n",
    "funct(3,4)"
   ]
  },
  {
   "cell_type": "markdown",
   "id": "bc3b656a",
   "metadata": {},
   "source": [
    "### 5 How many global scopes are there in a Python program? How many local scopes?"
   ]
  },
  {
   "cell_type": "markdown",
   "id": "0fe5967a",
   "metadata": {},
   "source": [
    "IN python only one global variable exist and multiple local scopes can exist"
   ]
  },
  {
   "cell_type": "markdown",
   "id": "0f726759",
   "metadata": {},
   "source": [
    "### 6 What happens to variables in a local scope when the function call returns?"
   ]
  },
  {
   "cell_type": "markdown",
   "id": "24cc7a51",
   "metadata": {},
   "source": [
    "when we call returns the local value is get destroyed , local variable are specific to that function only \n",
    "so, once we call return statement its give its place to any other values in the coding"
   ]
  },
  {
   "cell_type": "markdown",
   "id": "14eb613e",
   "metadata": {},
   "source": [
    "### 7 What is the concept of a return value? Is it possible to have a return value in an expression?"
   ]
  },
  {
   "cell_type": "markdown",
   "id": "d760cc20",
   "metadata": {},
   "source": [
    "return value produce the result when function is executed , but it does not print the result until we provide a print statement\n",
    ",but if we use the iteration inside the function then it return the first result value to the function for a input of next iteration, for example finding factorial of any number:"
   ]
  },
  {
   "cell_type": "code",
   "execution_count": 4,
   "id": "19339282",
   "metadata": {},
   "outputs": [
    {
     "data": {
      "text/plain": [
       "120"
      ]
     },
     "execution_count": 4,
     "metadata": {},
     "output_type": "execute_result"
    }
   ],
   "source": [
    "def recc(n):\n",
    "    if n==0:\n",
    "        return 1\n",
    "    else:\n",
    "        return n*recc(n-1)\n",
    "recc(5)"
   ]
  },
  {
   "cell_type": "markdown",
   "id": "9377cb03",
   "metadata": {},
   "source": [
    "### 8 If a function does not have a return statement, what is the return value of a call to that function?"
   ]
  },
  {
   "cell_type": "markdown",
   "id": "027b8309",
   "metadata": {},
   "source": [
    " if functions does not have return statement then it will give None if we call that function, for example:"
   ]
  },
  {
   "cell_type": "code",
   "execution_count": 7,
   "id": "a90757ae",
   "metadata": {},
   "outputs": [
    {
     "name": "stdout",
     "output_type": "stream",
     "text": [
      "gyc\n",
      "None\n"
     ]
    }
   ],
   "source": [
    "def gyc():\n",
    "    print('gyc')\n",
    "r=gyc()\n",
    "print(r)"
   ]
  },
  {
   "cell_type": "markdown",
   "id": "fcfbacd9",
   "metadata": {},
   "source": [
    "### 9 How do you make a function variable refer to the global variable?"
   ]
  },
  {
   "cell_type": "markdown",
   "id": "c335e15d",
   "metadata": {},
   "source": [
    " to make function variable to a global variable we need to use a global keyword inside the function, for example:"
   ]
  },
  {
   "cell_type": "code",
   "execution_count": 1,
   "id": "15551a34",
   "metadata": {},
   "outputs": [
    {
     "name": "stdout",
     "output_type": "stream",
     "text": [
      "10\n",
      "48\n"
     ]
    }
   ],
   "source": [
    "x=10\n",
    "def gob():\n",
    "    global x\n",
    "    x=48\n",
    "print(x)\n",
    "gob()\n",
    "print(x)\n"
   ]
  },
  {
   "cell_type": "code",
   "execution_count": 9,
   "id": "0faecba5",
   "metadata": {},
   "outputs": [
    {
     "name": "stdout",
     "output_type": "stream",
     "text": [
      "in 7\n",
      "out 98\n",
      "in 98\n",
      "in 7\n"
     ]
    }
   ],
   "source": [
    "a=10\n",
    "b=15\n",
    "c=28\n",
    "def some():\n",
    "    global a\n",
    "    a=7\n",
    "    print('in',a)\n",
    "    globals()['a']=98\n",
    "some()\n",
    "print('out',a)\n",
    "print('in',a)\n",
    "some()"
   ]
  },
  {
   "cell_type": "markdown",
   "id": "5d175073",
   "metadata": {},
   "source": [
    "### 10 What is the data type of None?"
   ]
  },
  {
   "cell_type": "markdown",
   "id": "e8ca2c60",
   "metadata": {},
   "source": [
    "data type of none is a NoneType\n",
    "for example:"
   ]
  },
  {
   "cell_type": "code",
   "execution_count": 18,
   "id": "0fe2d872",
   "metadata": {},
   "outputs": [
    {
     "data": {
      "text/plain": [
       "NoneType"
      ]
     },
     "execution_count": 18,
     "metadata": {},
     "output_type": "execute_result"
    }
   ],
   "source": [
    "x=None\n",
    "type(x)"
   ]
  },
  {
   "cell_type": "markdown",
   "id": "b64c3035",
   "metadata": {},
   "source": [
    "### 11 What does the sentence import areallyourpetsnamederic do?"
   ]
  },
  {
   "cell_type": "markdown",
   "id": "bd84d7ff",
   "metadata": {},
   "source": [
    "the statement import indicates the importing of external libraries or modules to the current programe "
   ]
  },
  {
   "cell_type": "markdown",
   "id": "ed3ea654",
   "metadata": {},
   "source": [
    "### 12 If you had a bacon() feature in a spam module, what would you call it after importing spam?"
   ]
  },
  {
   "cell_type": "markdown",
   "id": "4b0d9374",
   "metadata": {},
   "source": [
    "if we have bacon() inside the spam module , first we need to import module by\n",
    "import spam\n",
    "then we need to call directly bacon() from spam by\n",
    "spam.bacon()\n"
   ]
  },
  {
   "cell_type": "markdown",
   "id": "69b91529",
   "metadata": {},
   "source": [
    "### 13 What can you do to save a programme from crashing if it encounters an error?"
   ]
  },
  {
   "cell_type": "markdown",
   "id": "1925965c",
   "metadata": {},
   "source": [
    "first to prevent warnings we need to import warnings by\n",
    "import warnings\n",
    "warnings.filterwarnings(\"ignore\")\n",
    "\n",
    "inoder to handling exception we need to use try and except method as\n",
    "try:\n",
    "   #anything which gives error\n",
    "except ExceptionType:\n",
    "   #anything we need to write if any error accurs in previous try step"
   ]
  },
  {
   "cell_type": "markdown",
   "id": "f36b865c",
   "metadata": {},
   "source": [
    "### 14 14. What is the purpose of the try clause? What is the purpose of the except clause?"
   ]
  },
  {
   "cell_type": "markdown",
   "id": "65b3d93e",
   "metadata": {},
   "source": [
    "try clause is used to write a code which can give error, if any error accure in try clause we can write code in except caluse to handle that exceptin\n"
   ]
  }
 ],
 "metadata": {
  "kernelspec": {
   "display_name": "Python 3 (ipykernel)",
   "language": "python",
   "name": "python3"
  },
  "language_info": {
   "codemirror_mode": {
    "name": "ipython",
    "version": 3
   },
   "file_extension": ".py",
   "mimetype": "text/x-python",
   "name": "python",
   "nbconvert_exporter": "python",
   "pygments_lexer": "ipython3",
   "version": "3.10.9"
  }
 },
 "nbformat": 4,
 "nbformat_minor": 5
}
