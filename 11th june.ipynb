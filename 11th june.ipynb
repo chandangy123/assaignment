{
 "cells": [
  {
   "cell_type": "markdown",
   "id": "7d912058",
   "metadata": {},
   "source": [
    "### 1. What is a lambda function in Python, and how does it differ from a regular function?"
   ]
  },
  {
   "cell_type": "markdown",
   "id": "c5af314b",
   "metadata": {},
   "source": [
    "a lambda function, also known as an anonymous function, is a small, single-expression function that doesn't \n",
    "require a def statement or a named function. \n",
    "It is created using the lambda keyword and can take any number of arguments but can only have a single expression.\n",
    " \n",
    " its general syntax is\n",
    " lambda arguments: expression\n"
   ]
  },
  {
   "cell_type": "markdown",
   "id": "8370aba0",
   "metadata": {},
   "source": [
    "Differences between a lambda function and a regular function:\n",
    "\n",
    "Syntax: Lambda functions have a more compact syntax, allowing you to define functions in a single line\n",
    "    without using the def keyword, function name, or return statement.\n",
    "\n",
    "Function Name: Lambda functions do not have a name. They are anonymous functions and are defined on the fly as needed.\n",
    "\n",
    "Single Expression: Lambda functions can only have a single expression, whereas regular functions can contain multiple \n",
    "    statements and have a block of code.\n",
    "\n",
    "Usage: Lambda functions are commonly used as arguments to higher-order functions like map(), filter(), and sort(), \n",
    "    where a function is needed temporarily."
   ]
  },
  {
   "cell_type": "markdown",
   "id": "c6c320e1",
   "metadata": {},
   "source": [
    "#Lambda Function\n",
    "multiply = lambda x, y: x * y\n",
    "print(multiply(2, 3))  # Output: 6\n",
    "\n",
    "#Regular Function\n",
    "def multiply(x, y):\n",
    "    return x * y\n",
    "\n",
    "print(multiply(2, 3))  # Output: 6\n"
   ]
  },
  {
   "cell_type": "markdown",
   "id": "9155e450",
   "metadata": {},
   "source": [
    "### 2. Can a lambda function in Python have multiple arguments? If yes, how can you define and use them?"
   ]
  },
  {
   "cell_type": "markdown",
   "id": "4faff342",
   "metadata": {},
   "source": [
    "yes,\n",
    "lambda arg1, arg2, ..., argn: expression\n"
   ]
  },
  {
   "cell_type": "code",
   "execution_count": 2,
   "id": "0dafb546",
   "metadata": {},
   "outputs": [
    {
     "name": "stdout",
     "output_type": "stream",
     "text": [
      "6\n",
      "6\n"
     ]
    }
   ],
   "source": [
    "multiply = lambda x, y: x * y\n",
    "print(multiply(2, 3))  \n",
    "\n",
    "add = lambda a, b, c: a + b + c\n",
    "print(add(1, 2, 3))\n"
   ]
  },
  {
   "cell_type": "markdown",
   "id": "e99fb516",
   "metadata": {},
   "source": [
    "### 3. How are lambda functions typically used in Python? Provide an example use case."
   ]
  },
  {
   "cell_type": "markdown",
   "id": "505a2934",
   "metadata": {},
   "source": [
    "Lambda function used in situations where you need a small, one-time, and anonymous function. \n",
    "They are commonly used as arguments to higher-order functions such as map(), filter(), and sort(), \n",
    "where a function is required temporarily."
   ]
  },
  {
   "cell_type": "code",
   "execution_count": 4,
   "id": "c93950a6",
   "metadata": {},
   "outputs": [
    {
     "name": "stdout",
     "output_type": "stream",
     "text": [
      "[1, 4, 9, 16, 25]\n"
     ]
    }
   ],
   "source": [
    "numbers = [1, 2, 3, 4, 5]\n",
    "squared_numbers = list(map(lambda x: x**2, numbers))\n",
    "print(squared_numbers)  # Output: [1, 4, 9, 16, 25]"
   ]
  },
  {
   "cell_type": "markdown",
   "id": "bad576f6",
   "metadata": {},
   "source": [
    "### 4. What are the advantages and limitations of lambda functions compared to regular functions in Python?"
   ]
  },
  {
   "cell_type": "markdown",
   "id": "a7eff1cf",
   "metadata": {},
   "source": [
    "Advantages:\n",
    "\n",
    "Conciseness: Lambda functions allow you to define small functions in a single line without the need for a function name, return statement, or additional lines of code. This can make your code more compact and easier to read.\n",
    "\n",
    "Readability: Lambda functions are useful when you have simple and straightforward operations that don't require a full-fledged named function. They can make your code more readable by keeping the focus on the core logic rather than the function definition.\n",
    "\n",
    "Anonymous: Lambda functions are anonymous functions that don't require a named function definition. This is useful when you need to create a function on the fly without assigning it a name.\n",
    "\n",
    "Higher-Order Functions: Lambda functions are commonly used as arguments to higher-order functions like map(), filter(), and sort(), allowing you to define small, temporary functions inline.\n",
    "\n",
    "\n",
    "\n",
    "\n",
    "\n",
    "Limitations:\n",
    "\n",
    "Single Expression: Lambda functions are limited to a single expression. They cannot contain multiple statements or have complex control flow structures. If you need to write more complex logic or use multiple statements, a regular function is more suitable.\n",
    "\n",
    "Limited Functionality: Due to their simplicity, lambda functions are not capable of handling advanced features such as docstrings, decorators, or default argument values. Regular functions offer more flexibility in terms of functionality and customization.\n",
    "\n",
    "Lack of Name: Lambda functions are anonymous, which can make debugging and error handling more challenging since they do not have a distinct name to identify them.\n",
    "\n",
    "Code Maintainability: While lambda functions can be concise, they may also lead to less readable and maintainable code if used excessively or for complex logic. Regular functions with descriptive names are generally preferred for code that requires readability and maintainability."
   ]
  },
  {
   "cell_type": "markdown",
   "id": "65be3fb7",
   "metadata": {},
   "source": [
    "### 5. Are lambda functions in Python able to access variables defined outside of their own scope? Explain with an example."
   ]
  },
  {
   "cell_type": "markdown",
   "id": "fcfc5b41",
   "metadata": {},
   "source": [
    "yes, This concept is known as \"lexical scoping\" or \"closure\". Lambda functions can access variables from the enclosing \n",
    "scope in which they are defined, including variables from the global scope or variables defined in an outer function."
   ]
  },
  {
   "cell_type": "code",
   "execution_count": 6,
   "id": "c60dcacb",
   "metadata": {},
   "outputs": [
    {
     "name": "stdout",
     "output_type": "stream",
     "text": [
      "Hello, Alice\n"
     ]
    }
   ],
   "source": [
    "def outer_function():\n",
    "    message = \"Hello\"\n",
    "    greeting = lambda name: message + \", \" + name\n",
    "\n",
    "    return greeting\n",
    "\n",
    "my_greeting = outer_function()\n",
    "print(my_greeting(\"Alice\")) \n"
   ]
  },
  {
   "cell_type": "markdown",
   "id": "0529564a",
   "metadata": {},
   "source": [
    "### 6. Write a lambda function to calculate the square of a given number."
   ]
  },
  {
   "cell_type": "code",
   "execution_count": 7,
   "id": "ca403d3b",
   "metadata": {},
   "outputs": [
    {
     "name": "stdout",
     "output_type": "stream",
     "text": [
      "25\n"
     ]
    }
   ],
   "source": [
    "square = lambda x: x ** 2\n",
    "\n",
    "number = 5\n",
    "result = square(number)\n",
    "print(result)\n"
   ]
  },
  {
   "cell_type": "markdown",
   "id": "16aa66e1",
   "metadata": {},
   "source": [
    "### 7. Create a lambda function to find the maximum value in a list of integers."
   ]
  },
  {
   "cell_type": "markdown",
   "id": "072ccffb",
   "metadata": {},
   "source": [
    "find_max = lambda lst: max(lst)\n",
    "numbers = [10, 5, 8, 20, 3]\n",
    "maximum = find_max(numbers)\n",
    "print(maximum) "
   ]
  },
  {
   "cell_type": "markdown",
   "id": "0bc86687",
   "metadata": {},
   "source": [
    "### 8. Implement a lambda function to filter out all the even numbers from a list of integers."
   ]
  },
  {
   "cell_type": "code",
   "execution_count": 8,
   "id": "d389eaff",
   "metadata": {},
   "outputs": [
    {
     "name": "stdout",
     "output_type": "stream",
     "text": [
      "[2, 4, 6, 8, 10]\n"
     ]
    }
   ],
   "source": [
    "filter_even = lambda lst: list(filter(lambda x: x % 2 == 0, lst))\n",
    "\n",
    "numbers = [1, 2, 3, 4, 5, 6, 7, 8, 9, 10]\n",
    "even_numbers = filter_even(numbers)\n",
    "print(even_numbers) \n"
   ]
  },
  {
   "cell_type": "markdown",
   "id": "34342fa0",
   "metadata": {},
   "source": [
    "### 9. Write a lambda function to sort a list of strings in ascending order based on the length of each string."
   ]
  },
  {
   "cell_type": "code",
   "execution_count": 9,
   "id": "64fe1af1",
   "metadata": {},
   "outputs": [
    {
     "name": "stdout",
     "output_type": "stream",
     "text": [
      "['date', 'apple', 'banana', 'cherry', 'elderberry']\n"
     ]
    }
   ],
   "source": [
    "sort_by_length = lambda lst: sorted(lst, key=lambda x: len(x))\n",
    "\n",
    "strings = [\"apple\", \"banana\", \"cherry\", \"date\", \"elderberry\"]\n",
    "sorted_strings = sort_by_length(strings)\n",
    "print(sorted_strings)\n"
   ]
  },
  {
   "cell_type": "markdown",
   "id": "97c1f5f4",
   "metadata": {},
   "source": [
    "### 10. Create a lambda function that takes two lists as input and returns a new list containing the common elements between the two lists."
   ]
  },
  {
   "cell_type": "code",
   "execution_count": 12,
   "id": "d8472d36",
   "metadata": {},
   "outputs": [
    {
     "name": "stdout",
     "output_type": "stream",
     "text": [
      "[4, 5]\n"
     ]
    }
   ],
   "source": [
    "find_common_elements = lambda list1, list2: list(filter(lambda x: x in list2, list1))\n",
    "\n",
    "numbers1 = [1, 2, 3, 4, 5]\n",
    "numbers2 = [4, 5, 6, 7, 8]\n",
    "common_elements = find_common_elements(numbers1, numbers2)\n",
    "print(common_elements)  \n"
   ]
  },
  {
   "cell_type": "markdown",
   "id": "f0fcc721",
   "metadata": {},
   "source": [
    "### 11. Write a recursive function to calculate the factorial of a given positive integer."
   ]
  },
  {
   "cell_type": "code",
   "execution_count": 21,
   "id": "c90c4aca",
   "metadata": {},
   "outputs": [
    {
     "name": "stdout",
     "output_type": "stream",
     "text": [
      "Enter the number5\n",
      "120\n"
     ]
    }
   ],
   "source": [
    "x = int(input('Enter the number'))\n",
    "\n",
    "def fact(n):\n",
    "    if n == 0 or n == 1:\n",
    "        return 1\n",
    "    return n * fact(n - 1)\n",
    "\n",
    "result = fact(x)\n",
    "print(result)\n"
   ]
  },
  {
   "cell_type": "markdown",
   "id": "06958233",
   "metadata": {},
   "source": [
    "### 12. Implement a recursive function to compute the nth Fibonacci number."
   ]
  },
  {
   "cell_type": "code",
   "execution_count": 24,
   "id": "7a230086",
   "metadata": {},
   "outputs": [
    {
     "name": "stdout",
     "output_type": "stream",
     "text": [
      "Enter the nth number10\n",
      "0\n",
      "1\n",
      "1\n",
      "2\n",
      "3\n",
      "5\n",
      "8\n",
      "13\n",
      "21\n",
      "34\n"
     ]
    }
   ],
   "source": [
    "n=int(input(\"Enter the nth number\"))\n",
    "def feb(n):\n",
    "    a=0\n",
    "    b=1\n",
    "    if n==0:\n",
    "        print(a)\n",
    "    else:\n",
    "        print(a)\n",
    "        print(b)\n",
    "    for i in range(2,n):\n",
    "        c=a+b\n",
    "        a=b\n",
    "        b=c\n",
    "        print(c)\n",
    "feb(n)"
   ]
  },
  {
   "cell_type": "markdown",
   "id": "104cf1aa",
   "metadata": {},
   "source": [
    "### 13. Create a recursive function to find the sum of all the elements in a given list."
   ]
  },
  {
   "cell_type": "code",
   "execution_count": 29,
   "id": "9764efad",
   "metadata": {},
   "outputs": [
    {
     "data": {
      "text/plain": [
       "45"
      ]
     },
     "execution_count": 29,
     "metadata": {},
     "output_type": "execute_result"
    }
   ],
   "source": [
    "lst=[1,2,3,4,5,6,7,8,9]\n",
    "def sum(lst):\n",
    "    if len(lst) == 0:\n",
    "        return 0\n",
    "    else:\n",
    "        return lst[0] + sum(lst[1:])\n",
    "sum(lst)"
   ]
  },
  {
   "cell_type": "markdown",
   "id": "0cde17c2",
   "metadata": {},
   "source": [
    "### 14. Write a recursive function to determine whether a given string is a palindrome."
   ]
  },
  {
   "cell_type": "code",
   "execution_count": 30,
   "id": "746e1a4a",
   "metadata": {},
   "outputs": [
    {
     "data": {
      "text/plain": [
       "False"
      ]
     },
     "execution_count": 30,
     "metadata": {},
     "output_type": "execute_result"
    }
   ],
   "source": [
    "def is_palindrome(s):\n",
    "    if len(s) <= 1:\n",
    "        return True\n",
    "    elif s[0] != s[-1]:\n",
    "        return False\n",
    "    else:\n",
    "        return is_palindrome(s[1:-1])\n",
    "is_palindrome('sanjith')"
   ]
  },
  {
   "cell_type": "code",
   "execution_count": 31,
   "id": "6ce9c6f4",
   "metadata": {},
   "outputs": [
    {
     "data": {
      "text/plain": [
       "True"
      ]
     },
     "execution_count": 31,
     "metadata": {},
     "output_type": "execute_result"
    }
   ],
   "source": [
    "is_palindrome('racecar')"
   ]
  },
  {
   "cell_type": "markdown",
   "id": "8b422ab9",
   "metadata": {},
   "source": [
    "### 15. Implement a recursive function to find the greatest common divisor (GCD) of two positive integers."
   ]
  },
  {
   "cell_type": "code",
   "execution_count": 32,
   "id": "b662e9d8",
   "metadata": {},
   "outputs": [
    {
     "data": {
      "text/plain": [
       "1"
      ]
     },
     "execution_count": 32,
     "metadata": {},
     "output_type": "execute_result"
    }
   ],
   "source": [
    "def gcd(a, b):\n",
    "    if b == 0:\n",
    "        return a\n",
    "    else:\n",
    "        return gcd(b, a % b)\n",
    "gcd(4,5)"
   ]
  },
  {
   "cell_type": "code",
   "execution_count": null,
   "id": "6d0dfa29",
   "metadata": {},
   "outputs": [],
   "source": []
  }
 ],
 "metadata": {
  "kernelspec": {
   "display_name": "Python 3 (ipykernel)",
   "language": "python",
   "name": "python3"
  },
  "language_info": {
   "codemirror_mode": {
    "name": "ipython",
    "version": 3
   },
   "file_extension": ".py",
   "mimetype": "text/x-python",
   "name": "python",
   "nbconvert_exporter": "python",
   "pygments_lexer": "ipython3",
   "version": "3.10.9"
  }
 },
 "nbformat": 4,
 "nbformat_minor": 5
}
