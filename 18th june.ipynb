{
 "cells": [
  {
   "cell_type": "markdown",
   "id": "c7def211",
   "metadata": {},
   "source": [
    "### 1. What is the role of the 'else' block in a try-except statement? Provide an examplescenario where it would be useful."
   ]
  },
  {
   "cell_type": "markdown",
   "id": "264c6b9e",
   "metadata": {},
   "source": [
    "In a try-except statement, the 'else' block is optional and is used to define a block of code that should be executed \n",
    "if no exceptions are raised in the corresponding 'try' block.\n",
    "Its purpose is to specify the code that should run when the 'try' block completes successfully without any exceptions."
   ]
  },
  {
   "cell_type": "code",
   "execution_count": 1,
   "id": "d4eecaae",
   "metadata": {},
   "outputs": [
    {
     "name": "stdout",
     "output_type": "stream",
     "text": [
      "Enter a dividend: 20\n",
      "Enter a divisor: 0\n",
      "Cannot divide by zero.\n"
     ]
    }
   ],
   "source": [
    "# for example\n",
    "try:\n",
    "    num1 = int(input(\"Enter a dividend: \"))\n",
    "    num2 = int(input(\"Enter a divisor: \"))\n",
    "    result = num1 / num2\n",
    "except ValueError:\n",
    "    print(\"Invalid input. Please enter a valid number.\")\n",
    "except ZeroDivisionError:\n",
    "    print(\"Cannot divide by zero.\")\n",
    "else:\n",
    "    print(\"The result of the division is:\", result)\n"
   ]
  },
  {
   "cell_type": "markdown",
   "id": "ff17c2c2",
   "metadata": {},
   "source": [
    "### 2. Can a try-except block be nested inside another try-except block? Explain with an example."
   ]
  },
  {
   "cell_type": "markdown",
   "id": "2755bbc8",
   "metadata": {},
   "source": [
    "Yes, a try-except block can be nested inside another try-except block. This is known as nested exception handling.\n",
    "It allows for more granular handling of exceptions in different parts of the code."
   ]
  },
  {
   "cell_type": "code",
   "execution_count": 3,
   "id": "8fee1024",
   "metadata": {},
   "outputs": [
    {
     "name": "stdout",
     "output_type": "stream",
     "text": [
      "Enter a dividend: 53\n",
      "Enter a divisor: ui\n",
      "Outer except block: Invalid input. Please enter a valid number.\n"
     ]
    }
   ],
   "source": [
    "#for exapmle\n",
    "try:\n",
    "    # Outer try block\n",
    "    num1 = int(input(\"Enter a dividend: \"))\n",
    "    num2 = int(input(\"Enter a divisor: \"))\n",
    "    try:\n",
    "        # Inner try block\n",
    "        result = num1 / num2\n",
    "    except ZeroDivisionError:\n",
    "        print(\"Inner except block: Cannot divide by zero.\")\n",
    "except ValueError:\n",
    "    print(\"Outer except block: Invalid input. Please enter a valid number.\")\n",
    "else:\n",
    "    print(\"The result of the division is:\", result)\n"
   ]
  },
  {
   "cell_type": "markdown",
   "id": "f3cf1774",
   "metadata": {},
   "source": [
    "### 3. How can you create a custom exception class in Python? Provide an example that demonstrates its usage."
   ]
  },
  {
   "cell_type": "code",
   "execution_count": 4,
   "id": "1aba581a",
   "metadata": {},
   "outputs": [
    {
     "name": "stdout",
     "output_type": "stream",
     "text": [
      "CustomException occurred: Cannot divide by zero.\n"
     ]
    }
   ],
   "source": [
    "class CustomException(Exception):\n",
    "    pass\n",
    "\n",
    "def divide_numbers(num1, num2):\n",
    "    if num2 == 0:\n",
    "        raise CustomException(\"Cannot divide by zero.\")\n",
    "    return num1 / num2\n",
    "\n",
    "try:\n",
    "    result = divide_numbers(10, 0)\n",
    "except CustomException as e:\n",
    "    print(\"CustomException occurred:\", str(e))\n"
   ]
  },
  {
   "cell_type": "markdown",
   "id": "1548c50e",
   "metadata": {},
   "source": [
    "### 4. What are some common exceptions that are built-in to Python?"
   ]
  },
  {
   "cell_type": "markdown",
   "id": "9b2860ef",
   "metadata": {},
   "source": [
    "SyntaxError: Raised when there is a syntax error in the code.\n",
    "IndentationError: Raised when there is an incorrect indentation in the code.\n",
    "NameError: Raised when a local or global name is not found.\n",
    "TypeError: Raised when an operation or function is applied to an object of an inappropriate type.\n",
    "ValueError: Raised when a function receives an argument of the correct type but an inappropriate value.\n",
    "IndexError: Raised when a sequence subscript is out of range.\n",
    "KeyError: Raised when a dictionary key is not found.\n",
    "FileNotFoundError: Raised when a file or directory is not found.\n",
    "IOError: Raised when an input/output operation fails.\n",
    "ZeroDivisionError: Raised when division or modulo operation is performed with zero as the divisor."
   ]
  },
  {
   "cell_type": "markdown",
   "id": "ebec7c14",
   "metadata": {},
   "source": [
    "### 5. What is logging in Python, and why is it important in software development?"
   ]
  },
  {
   "cell_type": "code",
   "execution_count": null,
   "id": "24e2dc44",
   "metadata": {},
   "outputs": [],
   "source": [
    "Logging in Python is a mechanism that allows developers to record and store information about the execution of a program \n",
    "or application. It provides a standardized way to capture events, errors, warnings, and other important messages during runtime.\n",
    "The logging module in Python provides the necessary functionality to incorporate logging into your code."
   ]
  },
  {
   "cell_type": "markdown",
   "id": "5bbd1fd8",
   "metadata": {},
   "source": [
    "#importance are:\n",
    "Debugging and Troubleshooting\n",
    "\n",
    "Monitoring and Maintenance \n",
    "\n",
    "Auditing and Compliance\n",
    "\n",
    "Understanding User Behavior \n",
    "\n",
    "Security Analysis"
   ]
  },
  {
   "cell_type": "markdown",
   "id": "00599f43",
   "metadata": {},
   "source": [
    "### 6. Explain the purpose of log levels in Python logging and provide examples of when each log level would be appropriate."
   ]
  },
  {
   "cell_type": "markdown",
   "id": "72b28ab1",
   "metadata": {},
   "source": [
    "Log levels in Python logging are used to categorize and prioritize log messages based on their severity or importance.\n",
    "The logging module in Python provides several predefined log levels, each serving a specific purpose."
   ]
  },
  {
   "cell_type": "markdown",
   "id": "fd6e93f0",
   "metadata": {},
   "source": [
    "The DEBUG level is used for detailed information that is primarily useful for debugging and diagnosing issues during development"
   ]
  },
  {
   "cell_type": "code",
   "execution_count": null,
   "id": "a6ab8c6b",
   "metadata": {},
   "outputs": [],
   "source": [
    "import logging\n",
    "\n",
    "logging.basicConfig(level=logging.DEBUG)\n",
    "logging.debug(\"Variable value: %s\", my_variable)\n"
   ]
  },
  {
   "cell_type": "markdown",
   "id": "c76c4667",
   "metadata": {},
   "source": [
    "INFO level is used to confirm that things are working as expected.\n",
    "It provides general information about the progress of the application. "
   ]
  },
  {
   "cell_type": "code",
   "execution_count": null,
   "id": "89899080",
   "metadata": {},
   "outputs": [],
   "source": [
    "import logging\n",
    "\n",
    "logging.basicConfig(level=logging.INFO)\n",
    "logging.info(\"Server started on port %d\", port)\n"
   ]
  },
  {
   "cell_type": "markdown",
   "id": "9d1ed637",
   "metadata": {},
   "source": [
    "The WARNING level is used to indicate potentially harmful or unexpected situations \n",
    "that do not prevent the application from functioning but may require attention. "
   ]
  },
  {
   "cell_type": "code",
   "execution_count": null,
   "id": "2a69b2dc",
   "metadata": {},
   "outputs": [],
   "source": [
    "import logging\n",
    "\n",
    "logging.basicConfig(level=logging.WARNING)\n",
    "logging.warning(\"Disk space is running low: %d GB left\", free_space)\n"
   ]
  },
  {
   "cell_type": "markdown",
   "id": "6a59744f",
   "metadata": {},
   "source": [
    "The ERROR level is used to indicate errors that prevent a specific functionality or operation from completing successfully. "
   ]
  },
  {
   "cell_type": "code",
   "execution_count": null,
   "id": "6a1d4b48",
   "metadata": {},
   "outputs": [],
   "source": [
    "import logging\n",
    "\n",
    "logging.basicConfig(level=logging.ERROR)\n",
    "logging.error(\"Failed to process the request: %s\", error_message)\n"
   ]
  },
  {
   "cell_type": "markdown",
   "id": "2048336c",
   "metadata": {},
   "source": [
    "The CRITICAL level is used to indicate critical errors that may lead to the termination of the application or significant system failures. "
   ]
  },
  {
   "cell_type": "code",
   "execution_count": null,
   "id": "bbfa9c93",
   "metadata": {},
   "outputs": [],
   "source": [
    "import logging\n",
    "\n",
    "logging.basicConfig(level=logging.CRITICAL)\n",
    "logging.critical(\"Security breach detected: unauthorized access attempted.\")\n"
   ]
  },
  {
   "cell_type": "markdown",
   "id": "55b4a7e0",
   "metadata": {},
   "source": [
    "### 7. What are log formatters in Python logging, and how can you customise the log message format using formatters?"
   ]
  },
  {
   "cell_type": "markdown",
   "id": "b003f6d5",
   "metadata": {},
   "source": [
    "Log formatters in Python logging allow us to define the format of log messages that are emitted by the logging system. They provide a way to customize the appearance and structure of log records. The logging module in Python provides the Formatter class to create and configure log formatters.\n",
    "\n",
    "The log message format can be customized using placeholders, which are special symbols that are replaced with relevant information from the log record. Some commonly used placeholders include:\n",
    "\n",
    "%(levelname)s: The log level of the message (e.g., DEBUG, INFO, WARNING, ERROR, CRITICAL).\n",
    "%(asctime)s: The timestamp when the log message was created.\n",
    "%(message)s: The actual log message.\n",
    "%(name)s: The name of the logger that generated the log message.\n",
    "%(module)s: The name of the module where the logging call was made.\n",
    "%(filename)s: The name of the file where the logging call was made.\n",
    "%(lineno)d: The line number where the logging call was made."
   ]
  },
  {
   "cell_type": "markdown",
   "id": "36ffdcca",
   "metadata": {},
   "source": [
    "following is an example to customize the log message"
   ]
  },
  {
   "cell_type": "code",
   "execution_count": 6,
   "id": "7ecab275",
   "metadata": {},
   "outputs": [
    {
     "name": "stderr",
     "output_type": "stream",
     "text": [
      "2023-07-01 17:10:52,940 - my_logger - DEBUG - This is a debug message\n",
      "DEBUG:my_logger:This is a debug message\n"
     ]
    }
   ],
   "source": [
    "import logging\n",
    "\n",
    "# Create a logger and set the log level\n",
    "logger = logging.getLogger('my_logger')\n",
    "logger.setLevel(logging.DEBUG)\n",
    "\n",
    "# Create a formatter and set the format of log messages\n",
    "formatter = logging.Formatter('%(asctime)s - %(name)s - %(levelname)s - %(message)s')\n",
    "\n",
    "# Create a handler and set the formatter\n",
    "handler = logging.StreamHandler()\n",
    "handler.setFormatter(formatter)\n",
    "\n",
    "# Add the handler to the logger\n",
    "logger.addHandler(handler)\n",
    "\n",
    "# Log a message\n",
    "logger.debug('This is a debug message')\n"
   ]
  },
  {
   "cell_type": "markdown",
   "id": "97f0fd4d",
   "metadata": {},
   "source": [
    "### 8. How can you set up logging to capture log messages from multiple modules or classes in a Python application?"
   ]
  },
  {
   "cell_type": "code",
   "execution_count": 7,
   "id": "e6ff77da",
   "metadata": {},
   "outputs": [],
   "source": [
    "import logging\n",
    "\n",
    "# Configure the root logger or create a custom logger\n",
    "logger = logging.getLogger(__name__)\n",
    "logger.setLevel(logging.DEBUG)\n",
    "\n",
    "# Create a handler and set its log level\n",
    "handler = logging.StreamHandler()\n",
    "handler.setLevel(logging.DEBUG)\n",
    "\n",
    "# Create a formatter and set the format of log messages\n",
    "formatter = logging.Formatter('%(asctime)s - %(name)s - %(levelname)s - %(message)s')\n",
    "handler.setFormatter(formatter)\n",
    "\n",
    "# Add the handler to the logger\n",
    "logger.addHandler(handler)\n"
   ]
  },
  {
   "cell_type": "code",
   "execution_count": 8,
   "id": "2e4d0bfc",
   "metadata": {},
   "outputs": [
    {
     "name": "stderr",
     "output_type": "stream",
     "text": [
      "2023-07-01 17:12:51,880 - __main__ - DEBUG - This is a debug message\n",
      "DEBUG:__main__:This is a debug message\n",
      "2023-07-01 17:12:51,880 - __main__ - INFO - This is an info message\n",
      "INFO:__main__:This is an info message\n",
      "2023-07-01 17:12:51,880 - __main__ - WARNING - This is a warning message\n",
      "WARNING:__main__:This is a warning message\n"
     ]
    }
   ],
   "source": [
    "logger.debug('This is a debug message')\n",
    "logger.info('This is an info message')\n",
    "logger.warning('This is a warning message')\n"
   ]
  },
  {
   "cell_type": "markdown",
   "id": "58a500f9",
   "metadata": {},
   "source": [
    "### 9. What is the difference between the logging and print statements in Python? When should you use logging over print statements in a real-world application?"
   ]
  },
  {
   "cell_type": "markdown",
   "id": "c2a8716f",
   "metadata": {},
   "source": [
    "The logging and print statements in Python serve different purposes and have distinct characteristics. Here are the key differences between them:\n",
    "\n",
    "Output destination: The primary purpose of the print statement is to display information on the console or standard output. On the other hand, logging provides a more versatile approach by allowing log messages to be directed to various outputs, such as the console, log files, network streams, or external services.\n",
    "\n",
    "Flexibility: The print statement is typically used for quick and temporary output during development or debugging. It is straightforward and doesn't offer much flexibility in terms of formatting or controlling the level of detail in the output. Logging, on the other hand, provides a robust and configurable logging framework. It allows you to control log levels, format log messages, and selectively enable or disable specific loggers or log statements.\n",
    "\n",
    "Log levels and filtering: Logging introduces the concept of log levels (e.g., DEBUG, INFO, WARNING, ERROR, CRITICAL) that enable fine-grained control over the verbosity of log messages. With logging, you can set a specific log level for different parts of your application and filter out lower-level or irrelevant log messages. This makes it easier to focus on the important information and troubleshoot issues effectively. In contrast, the print statement doesn't offer built-in log levels or filtering mechanisms.\n",
    "\n",
    "Persistence: When using print statements, the output is typically transient and lost once the program terminates or the console is closed. Logging, on the other hand, provides a persistent record of log messages that can be reviewed later. This is especially valuable in real-world applications where log messages are essential for troubleshooting, auditing, performance analysis, and monitoring.\n"
   ]
  },
  {
   "cell_type": "markdown",
   "id": "3214e65d",
   "metadata": {},
   "source": [
    "### 10. Write a Python program that logs a message to a file named \"app.log\" with the following requirements:\n",
    "● The log message should be \"Hello, World!\"\n",
    "● The log level should be set to \"INFO.\"\n",
    "● The log file should append new log entries without overwriting previous ones."
   ]
  },
  {
   "cell_type": "code",
   "execution_count": 9,
   "id": "931c2a92",
   "metadata": {},
   "outputs": [
    {
     "name": "stderr",
     "output_type": "stream",
     "text": [
      "INFO:root:Hello, World!\n"
     ]
    }
   ],
   "source": [
    "import logging\n",
    "\n",
    "# Configure the logger\n",
    "logging.basicConfig(filename='app.log', level=logging.INFO, filemode='a')\n",
    "\n",
    "# Log the message\n",
    "logging.info('Hello, World!')\n"
   ]
  },
  {
   "cell_type": "markdown",
   "id": "36de5f3e",
   "metadata": {},
   "source": [
    "### 11. Create a Python program that logs an error message to the console and a file named \"errors.log\" if an exception occurs during the program's execution. The error message should include the exception type and a timestamp."
   ]
  },
  {
   "cell_type": "code",
   "execution_count": 10,
   "id": "3b5d7d02",
   "metadata": {},
   "outputs": [
    {
     "name": "stderr",
     "output_type": "stream",
     "text": [
      "ERROR:root:ValueError: This is a sample exception. (Occurred at: 2023-07-01 17:39:13.501242)\n"
     ]
    },
    {
     "name": "stdout",
     "output_type": "stream",
     "text": [
      "Error: ValueError: This is a sample exception.\n"
     ]
    }
   ],
   "source": [
    "import logging\n",
    "import datetime\n",
    "\n",
    "# Configure the logger\n",
    "logging.basicConfig(level=logging.ERROR, format='%(asctime)s - %(levelname)s - %(message)s')\n",
    "\n",
    "# Create a file handler\n",
    "file_handler = logging.FileHandler('errors.log')\n",
    "file_handler.setLevel(logging.ERROR)\n",
    "\n",
    "# Create a formatter for the file handler\n",
    "formatter = logging.Formatter('%(asctime)s - %(levelname)s - %(message)s')\n",
    "file_handler.setFormatter(formatter)\n",
    "\n",
    "# Add the file handler to the root logger\n",
    "logging.getLogger('').addHandler(file_handler)\n",
    "\n",
    "try:\n",
    "    # Code that may raise an exception\n",
    "    # ...\n",
    "\n",
    "    # Simulating an exception for demonstration\n",
    "    raise ValueError(\"This is a sample exception.\")\n",
    "\n",
    "except Exception as e:\n",
    "    # Log the error message with exception type and timestamp\n",
    "    logging.error(f\"{type(e).__name__}: {e} (Occurred at: {datetime.datetime.now()})\")\n",
    "\n",
    "    # Print the error message to the console\n",
    "    print(f\"Error: {type(e).__name__}: {e}\")\n"
   ]
  },
  {
   "cell_type": "code",
   "execution_count": null,
   "id": "1b1d5157",
   "metadata": {},
   "outputs": [],
   "source": []
  }
 ],
 "metadata": {
  "kernelspec": {
   "display_name": "Python 3 (ipykernel)",
   "language": "python",
   "name": "python3"
  },
  "language_info": {
   "codemirror_mode": {
    "name": "ipython",
    "version": 3
   },
   "file_extension": ".py",
   "mimetype": "text/x-python",
   "name": "python",
   "nbconvert_exporter": "python",
   "pygments_lexer": "ipython3",
   "version": "3.10.9"
  }
 },
 "nbformat": 4,
 "nbformat_minor": 5
}
