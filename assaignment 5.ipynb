{
 "cells": [
  {
   "cell_type": "markdown",
   "id": "b01ee604",
   "metadata": {},
   "source": [
    "### What does an empty dictionary&#39;s code look like?"
   ]
  },
  {
   "cell_type": "markdown",
   "id": "c8658254",
   "metadata": {},
   "source": [
    "empty dictionary we be look like '{}' , inside this we can create key value pair "
   ]
  },
  {
   "cell_type": "markdown",
   "id": "54ca3a19",
   "metadata": {},
   "source": [
    "### 2. What is the value of a dictionary value with the key &#39;foo&#39; and the value 42?"
   ]
  },
  {
   "cell_type": "code",
   "execution_count": 1,
   "id": "096f0769",
   "metadata": {},
   "outputs": [],
   "source": [
    "#if dictionary having key 'foo' and its value is 42 , then its value is 42 of a key 'foo' , to access this we can write a code,\n",
    "#for example\n",
    "chandu={'foo':42}"
   ]
  },
  {
   "cell_type": "code",
   "execution_count": 2,
   "id": "ca74a2cd",
   "metadata": {},
   "outputs": [
    {
     "data": {
      "text/plain": [
       "42"
      ]
     },
     "execution_count": 2,
     "metadata": {},
     "output_type": "execute_result"
    }
   ],
   "source": [
    "chandu['foo']"
   ]
  },
  {
   "cell_type": "markdown",
   "id": "38fa488a",
   "metadata": {},
   "source": [
    "### 3. What is the most significant distinction between a dictionary and a list?"
   ]
  },
  {
   "cell_type": "markdown",
   "id": "cb50f70f",
   "metadata": {},
   "source": [
    "*A list is an ordered collection of items. Items in a list are stored in a particular order and accessed by their index position, starting from 0\n",
    "where as A dictionary is an unordered collection of key-value pairs,\n",
    "*list can have repeated values but dictionary do not allow to enter repeated values.\n",
    "*dictionaries used in scenarios where data needs to be stored and accessed based on specific keys, \n",
    "while lists are more suitable for ordered collections of items that need to be accessed by their index positions."
   ]
  },
  {
   "cell_type": "markdown",
   "id": "7d6f658e",
   "metadata": {},
   "source": [
    "### 4. What happens if you try to access spam[&#39;foo&#39;] if spam is {&#39;bar&#39;: 100}?"
   ]
  },
  {
   "cell_type": "code",
   "execution_count": 4,
   "id": "f6f6da73",
   "metadata": {},
   "outputs": [
    {
     "ename": "KeyError",
     "evalue": "'foo'",
     "output_type": "error",
     "traceback": [
      "\u001b[1;31m---------------------------------------------------------------------------\u001b[0m",
      "\u001b[1;31mKeyError\u001b[0m                                  Traceback (most recent call last)",
      "Cell \u001b[1;32mIn[4], line 2\u001b[0m\n\u001b[0;32m      1\u001b[0m spam \u001b[38;5;241m=\u001b[39m {\u001b[38;5;124m'\u001b[39m\u001b[38;5;124mbar\u001b[39m\u001b[38;5;124m'\u001b[39m: \u001b[38;5;241m100\u001b[39m}\n\u001b[1;32m----> 2\u001b[0m \u001b[43mspam\u001b[49m\u001b[43m[\u001b[49m\u001b[38;5;124;43m'\u001b[39;49m\u001b[38;5;124;43mfoo\u001b[39;49m\u001b[38;5;124;43m'\u001b[39;49m\u001b[43m]\u001b[49m\n",
      "\u001b[1;31mKeyError\u001b[0m: 'foo'"
     ]
    }
   ],
   "source": [
    "spam = {'bar': 100}\n",
    "spam['foo']\n"
   ]
  },
  {
   "cell_type": "code",
   "execution_count": 5,
   "id": "2dd9b5f6",
   "metadata": {},
   "outputs": [],
   "source": [
    "# it exist key error that foo is not a key in the spam"
   ]
  },
  {
   "cell_type": "markdown",
   "id": "3280fd22",
   "metadata": {},
   "source": [
    "### 5. If a dictionary is stored in spam, what is the difference between the expressions &#39;cat&#39; in spam and&#39;cat&#39; in spam.keys()?"
   ]
  },
  {
   "cell_type": "markdown",
   "id": "72faa543",
   "metadata": {},
   "source": [
    "both cat in spam and cat in spam.keys() check for the presence of cat in dictionary,\n",
    "but cat in spam check directly in dictionary where as cat in spam.keys() check presence of key cat inside the list gathered \n",
    "spam.keys(), for example"
   ]
  },
  {
   "cell_type": "code",
   "execution_count": 7,
   "id": "59352c7c",
   "metadata": {},
   "outputs": [],
   "source": [
    "spam={'cat':'milk','dog':'biscuit'}\n"
   ]
  },
  {
   "cell_type": "code",
   "execution_count": 9,
   "id": "5fbe36fc",
   "metadata": {},
   "outputs": [
    {
     "name": "stdout",
     "output_type": "stream",
     "text": [
      "True\n"
     ]
    }
   ],
   "source": [
    "print('cat' in spam)"
   ]
  },
  {
   "cell_type": "code",
   "execution_count": 10,
   "id": "518ad7f4",
   "metadata": {},
   "outputs": [
    {
     "name": "stdout",
     "output_type": "stream",
     "text": [
      "True\n"
     ]
    }
   ],
   "source": [
    "print('cat' in spam.keys())"
   ]
  },
  {
   "cell_type": "markdown",
   "id": "e7e45e62",
   "metadata": {},
   "source": [
    "### 6. If a dictionary is stored in spam, what is the difference between the expressions &#39;cat&#39; in spam and&#39;cat&#39; in spam.values()?"
   ]
  },
  {
   "cell_type": "markdown",
   "id": "c48a9ae5",
   "metadata": {},
   "source": [
    "cat in spam expression checks if the key 'cat' is present in the keys of the dictionary spam, for example\n"
   ]
  },
  {
   "cell_type": "code",
   "execution_count": 13,
   "id": "8d6bedb5",
   "metadata": {},
   "outputs": [
    {
     "name": "stdout",
     "output_type": "stream",
     "text": [
      "True\n"
     ]
    }
   ],
   "source": [
    "spam = {'cat': 23, 'dog': 24}\n",
    "print('cat' in spam)\n"
   ]
  },
  {
   "cell_type": "markdown",
   "id": "243e9300",
   "metadata": {},
   "source": [
    "where as cat in spam.values() checks the value 'cat' is present in the values of the dictionary spam, for example"
   ]
  },
  {
   "cell_type": "code",
   "execution_count": 14,
   "id": "03aac9aa",
   "metadata": {},
   "outputs": [
    {
     "name": "stdout",
     "output_type": "stream",
     "text": [
      "True\n"
     ]
    }
   ],
   "source": [
    "spam = {'animal': 'cat', 'pet': 'dog'}\n",
    "print('cat' in spam.values()) \n"
   ]
  },
  {
   "cell_type": "markdown",
   "id": "c566cabc",
   "metadata": {},
   "source": [
    "### 7. What is a shortcut for the following code?\n",
    "if &#39;color&#39; not in spam:\n",
    "spam[&#39;color&#39;] = &#39;black&#39;"
   ]
  },
  {
   "cell_type": "markdown",
   "id": "79711fbf",
   "metadata": {},
   "source": [
    "this can done by defaulting, i,e.. spam.get('color':'black')"
   ]
  },
  {
   "cell_type": "markdown",
   "id": "2ba88a06",
   "metadata": {},
   "source": [
    "### 8. How do you &quot;pretty print&quot; dictionary values using which module and function?"
   ]
  },
  {
   "cell_type": "code",
   "execution_count": 18,
   "id": "e38ef92e",
   "metadata": {},
   "outputs": [
    {
     "name": "stdout",
     "output_type": "stream",
     "text": [
      "{'kan': 56, 'eng': 45, 'science': 56, 'maths': 57, 'hindi': 90}\n"
     ]
    }
   ],
   "source": [
    "dict={'kan':56,'eng':45,'science':56,'maths':57,'hindi':90}\n",
    "def chandu():\n",
    "    return dict\n",
    "   \n",
    "r=chandu()\n",
    "print(r)\n"
   ]
  },
  {
   "cell_type": "code",
   "execution_count": null,
   "id": "f5cfd7dc",
   "metadata": {},
   "outputs": [],
   "source": []
  }
 ],
 "metadata": {
  "kernelspec": {
   "display_name": "Python 3 (ipykernel)",
   "language": "python",
   "name": "python3"
  },
  "language_info": {
   "codemirror_mode": {
    "name": "ipython",
    "version": 3
   },
   "file_extension": ".py",
   "mimetype": "text/x-python",
   "name": "python",
   "nbconvert_exporter": "python",
   "pygments_lexer": "ipython3",
   "version": "3.10.9"
  }
 },
 "nbformat": 4,
 "nbformat_minor": 5
}
