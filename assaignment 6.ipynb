{
 "cells": [
  {
   "cell_type": "markdown",
   "id": "f9164012",
   "metadata": {},
   "source": [
    "### Q.1. What are keywords in python? Using the keyword library, print all the python keywords."
   ]
  },
  {
   "cell_type": "markdown",
   "id": "726b2bd2",
   "metadata": {},
   "source": [
    "Keywords in Python are reserved words that have special meanings and purposes within the programming language. \n",
    "These keywords cannot be used as identifiers (such as variable names or function names) \n",
    "because they are already predefined and have specific roles in the language."
   ]
  },
  {
   "cell_type": "code",
   "execution_count": 1,
   "id": "df08bec1",
   "metadata": {},
   "outputs": [
    {
     "name": "stdout",
     "output_type": "stream",
     "text": [
      "['False', 'None', 'True', 'and', 'as', 'assert', 'async', 'await', 'break', 'class', 'continue', 'def', 'del', 'elif', 'else', 'except', 'finally', 'for', 'from', 'global', 'if', 'import', 'in', 'is', 'lambda', 'nonlocal', 'not', 'or', 'pass', 'raise', 'return', 'try', 'while', 'with', 'yield']\n"
     ]
    }
   ],
   "source": [
    "import keyword\n",
    "\n",
    "keywords = keyword.kwlist\n",
    "print(keywords)\n"
   ]
  },
  {
   "cell_type": "markdown",
   "id": "4f89db51",
   "metadata": {},
   "source": [
    "### Q.2. What are the rules to create variables in python?"
   ]
  },
  {
   "cell_type": "markdown",
   "id": "8f131f8d",
   "metadata": {},
   "source": [
    "*Variable names may be a combination of letters and digits\n",
    "*The first character of a variable name cannot be a digit; it must be a letter or underscore.\n",
    "*Variable names are case-sensitive\n",
    "*Python keywords are not to be used as variable names\n",
    "*ariables can hold values of different data types, such as integers, floats, strings, lists, etc."
   ]
  },
  {
   "cell_type": "markdown",
   "id": "04949d0b",
   "metadata": {},
   "source": [
    "### Q.3. What are the standards and conventions followed for the nomenclature of variables in python to improve code readability and maintainability?"
   ]
  },
  {
   "cell_type": "markdown",
   "id": "5f82e3f5",
   "metadata": {},
   "source": [
    "*Use lowercase letters and underscores to separate words in variable names \n",
    "*avoid using single-character names like x ,y, z\n",
    "*When naming variables that represent collections (e.g., lists, sets, dictionaries), use plural names to indicate their nature.\n",
    "*Do not use Python keywords or built-in names as variable names. "
   ]
  },
  {
   "cell_type": "markdown",
   "id": "fe42a0f4",
   "metadata": {},
   "source": [
    "### Q.4. What will happen if a keyword is used as a variable name?"
   ]
  },
  {
   "cell_type": "markdown",
   "id": "3b5ae8d6",
   "metadata": {},
   "source": [
    "Python interpreter will raise a SyntaxError indicating that the keyword is being used as an invalid identifier.for example"
   ]
  },
  {
   "cell_type": "code",
   "execution_count": 40,
   "id": "a34d22c6",
   "metadata": {},
   "outputs": [
    {
     "ename": "SyntaxError",
     "evalue": "invalid syntax (898134881.py, line 1)",
     "output_type": "error",
     "traceback": [
      "\u001b[1;36m  Cell \u001b[1;32mIn[40], line 1\u001b[1;36m\u001b[0m\n\u001b[1;33m    def='hello world'\u001b[0m\n\u001b[1;37m       ^\u001b[0m\n\u001b[1;31mSyntaxError\u001b[0m\u001b[1;31m:\u001b[0m invalid syntax\n"
     ]
    }
   ],
   "source": [
    "def='hello world'"
   ]
  },
  {
   "cell_type": "markdown",
   "id": "dc77cdd2",
   "metadata": {},
   "source": [
    "### Q.5. For what purpose def keyword is used?"
   ]
  },
  {
   "cell_type": "markdown",
   "id": "88ef6bad",
   "metadata": {},
   "source": [
    "The def keyword in Python is used to define and create functions. for example"
   ]
  },
  {
   "cell_type": "code",
   "execution_count": 3,
   "id": "4ab980c4",
   "metadata": {},
   "outputs": [
    {
     "name": "stdout",
     "output_type": "stream",
     "text": [
      "8\n"
     ]
    }
   ],
   "source": [
    "def add_numbers(a, b):\n",
    "    sum = a + b\n",
    "    return sum\n",
    "\n",
    "result = add_numbers(3, 5)\n",
    "print(result)  \n"
   ]
  },
  {
   "cell_type": "markdown",
   "id": "8219a2d1",
   "metadata": {},
   "source": [
    "### Q.6. What is the operation of this special character ‘\\’?"
   ]
  },
  {
   "cell_type": "markdown",
   "id": "44742c13",
   "metadata": {},
   "source": [
    "It is used to introduce special characters or escape sequences,\n",
    "some time used to go to new line of the string if we use '\\n'"
   ]
  },
  {
   "cell_type": "code",
   "execution_count": 2,
   "id": "5eedab71",
   "metadata": {},
   "outputs": [
    {
     "name": "stdout",
     "output_type": "stream",
     "text": [
      "She said, \"It's a beautiful day.\"\n"
     ]
    }
   ],
   "source": [
    "print('She said, \"It\\'s a beautiful day.\"')"
   ]
  },
  {
   "cell_type": "markdown",
   "id": "63fd8e9e",
   "metadata": {},
   "source": [
    "### Q.7. Give an example of the following conditions:\n",
    "(i) Homogeneous list\n",
    "(ii) Heterogeneous set\n",
    "(iii) Homogeneous tuple"
   ]
  },
  {
   "cell_type": "markdown",
   "id": "93a416cd",
   "metadata": {},
   "source": [
    "numbers =[1,2,3,4,5] , homogeneous list consist of only single type of data\n",
    "set = {1, 'hello', 3.14, True}, Heterogeneous set consist of different type of data\n",
    "fruits = ('apple', 'banana', 'orange', 'mango'), homogeneous tuple consist of only single type of data\n",
    "\n"
   ]
  },
  {
   "cell_type": "markdown",
   "id": "4855037a",
   "metadata": {},
   "source": [
    "### Q.8. Explain the mutable and immutable data types with proper explanation & examples."
   ]
  },
  {
   "cell_type": "markdown",
   "id": "5695d465",
   "metadata": {},
   "source": [
    "Mutable data types are those that can be modified after they are created. \n",
    "This means you can change their values or modify their internal state."
   ]
  },
  {
   "cell_type": "code",
   "execution_count": 27,
   "id": "1d03faac",
   "metadata": {},
   "outputs": [],
   "source": [
    "numbers = [1, 2, 3, 4] \n",
    "numbers.append(20)"
   ]
  },
  {
   "cell_type": "code",
   "execution_count": 28,
   "id": "078086e2",
   "metadata": {},
   "outputs": [
    {
     "data": {
      "text/plain": [
       "[1, 2, 3, 4, 20]"
      ]
     },
     "execution_count": 28,
     "metadata": {},
     "output_type": "execute_result"
    }
   ],
   "source": [
    "numbers"
   ]
  },
  {
   "cell_type": "code",
   "execution_count": 29,
   "id": "a1e479f8",
   "metadata": {},
   "outputs": [],
   "source": [
    "student = {\"name\": \"Alice\", \"age\": 20}"
   ]
  },
  {
   "cell_type": "code",
   "execution_count": 30,
   "id": "f081e7ff",
   "metadata": {},
   "outputs": [],
   "source": [
    "student['age']=30"
   ]
  },
  {
   "cell_type": "code",
   "execution_count": 31,
   "id": "05a013cd",
   "metadata": {},
   "outputs": [
    {
     "data": {
      "text/plain": [
       "{'name': 'Alice', 'age': 30}"
      ]
     },
     "execution_count": 31,
     "metadata": {},
     "output_type": "execute_result"
    }
   ],
   "source": [
    "student"
   ]
  },
  {
   "cell_type": "markdown",
   "id": "2c099f26",
   "metadata": {},
   "source": [
    "Immutable data types are those whose values cannot be modified after they are created."
   ]
  },
  {
   "cell_type": "code",
   "execution_count": 32,
   "id": "60e02d49",
   "metadata": {},
   "outputs": [],
   "source": [
    "x=30"
   ]
  },
  {
   "cell_type": "code",
   "execution_count": 33,
   "id": "924de3df",
   "metadata": {},
   "outputs": [],
   "source": [
    "x+=3"
   ]
  },
  {
   "cell_type": "code",
   "execution_count": 34,
   "id": "d258b836",
   "metadata": {},
   "outputs": [
    {
     "data": {
      "text/plain": [
       "33"
      ]
     },
     "execution_count": 34,
     "metadata": {},
     "output_type": "execute_result"
    }
   ],
   "source": [
    "x"
   ]
  },
  {
   "cell_type": "markdown",
   "id": "f9781e3d",
   "metadata": {},
   "source": [
    "its create a new variable , and forget about the previous one"
   ]
  },
  {
   "cell_type": "markdown",
   "id": "c44e11f9",
   "metadata": {},
   "source": [
    "### Q.9. Write a code to create the given structure using only for loop.\n",
    "*\n",
    "***\n",
    "*****\n",
    "*******\n",
    "*********"
   ]
  },
  {
   "cell_type": "markdown",
   "id": "8b1d4140",
   "metadata": {},
   "source": [
    "rows = 5\n",
    "\n",
    "for i in range(1, rows + 1):\n",
    "    print('*' * (2*i - 1))\n"
   ]
  },
  {
   "cell_type": "markdown",
   "id": "d17be030",
   "metadata": {},
   "source": [
    "### Q.10. Write a code to create the given structure using while loop.\n",
    "|||||||||\n",
    " |||||||\n",
    "  |||||\n",
    "   |||\n",
    "    |"
   ]
  },
  {
   "cell_type": "code",
   "execution_count": 1,
   "id": "75995ab7",
   "metadata": {},
   "outputs": [
    {
     "name": "stdout",
     "output_type": "stream",
     "text": [
      "|||||||||\n",
      " |||||||\n",
      "  |||||\n",
      "   |||\n",
      "    |\n"
     ]
    }
   ],
   "source": [
    "rows = 5\n",
    "row_length = 9\n",
    "spaces = 0\n",
    "\n",
    "while rows > 0:\n",
    "    print(' ' * spaces + '|' * row_length)\n",
    "    rows -= 1\n",
    "    row_length -= 2\n",
    "    spaces += 1\n"
   ]
  },
  {
   "cell_type": "code",
   "execution_count": null,
   "id": "cfe00140",
   "metadata": {},
   "outputs": [],
   "source": []
  }
 ],
 "metadata": {
  "kernelspec": {
   "display_name": "Python 3 (ipykernel)",
   "language": "python",
   "name": "python3"
  },
  "language_info": {
   "codemirror_mode": {
    "name": "ipython",
    "version": 3
   },
   "file_extension": ".py",
   "mimetype": "text/x-python",
   "name": "python",
   "nbconvert_exporter": "python",
   "pygments_lexer": "ipython3",
   "version": "3.10.9"
  }
 },
 "nbformat": 4,
 "nbformat_minor": 5
}
