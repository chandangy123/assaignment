{
 "cells": [
  {
   "cell_type": "markdown",
   "id": "a8331e79",
   "metadata": {},
   "source": [
    "### 1. Explain what inheritance is in object-oriented programming and why it is used."
   ]
  },
  {
   "cell_type": "markdown",
   "id": "f20c5e69",
   "metadata": {},
   "source": [
    "In object-oriented programming (OOP), inheritance is a fundamental concept that allows a class to inherit properties and behaviors from another class. It is a mechanism that promotes code reuse and facilitates the creation of hierarchies and relationships between classes.\n",
    "Inheritance is used for the following reasons\n",
    "Code reuse\n",
    "Modularity and hierarchy\n",
    "Overriding and specialization\n",
    "Polymorphism"
   ]
  },
  {
   "cell_type": "markdown",
   "id": "40fdbfcc",
   "metadata": {},
   "source": [
    "### 2. Discuss the concept of single inheritance and multiple inheritance, highlighting their differences and advantages."
   ]
  },
  {
   "cell_type": "markdown",
   "id": "142ca967",
   "metadata": {},
   "source": [
    "Single Inheritance:\n",
    "Single inheritance refers to the concept of a class inheriting properties and behaviors from a single superclass or parent class.\n",
    "In single inheritance, a class can have only one direct superclass."
   ]
  },
  {
   "cell_type": "markdown",
   "id": "4b4be89d",
   "metadata": {},
   "source": [
    "Advantages of Single Inheritance:\n",
    "\n",
    "Simplicity\n",
    "Easier Maintenance\n",
    "Reduced Complexity"
   ]
  },
  {
   "cell_type": "markdown",
   "id": "bf771e20",
   "metadata": {},
   "source": [
    "Multiple Inheritance:\n",
    "Multiple inheritance refers to the concept of a class inheriting properties and behaviors from multiple superclasses or parent classes.\n",
    "In multiple inheritance, a class can have multiple direct superclasses, combining their attributes and methods."
   ]
  },
  {
   "cell_type": "markdown",
   "id": "ef22e3f2",
   "metadata": {},
   "source": [
    "Advantages of Multiple Inheritance:\n",
    "\n",
    "Code Reusability\n",
    "Flexibility\n",
    "Enhanced Modularity\n",
    "Richer Class Relationships"
   ]
  },
  {
   "cell_type": "markdown",
   "id": "9dd3f7a3",
   "metadata": {},
   "source": [
    "### 3. Explain the terms \"base class\" and \"derived class\" in the context of inheritance."
   ]
  },
  {
   "cell_type": "markdown",
   "id": "a77378c1",
   "metadata": {},
   "source": [
    "Base Class:\n",
    "\n",
    "A base class, also known as a superclass or parent class, is the class from which other classes inherit properties and behaviors.\n",
    "The base class defines the common attributes and methods that are shared by its derived classes.\n",
    "It serves as a blueprint or template for creating more specialized classes."
   ]
  },
  {
   "cell_type": "markdown",
   "id": "eaf5cdd7",
   "metadata": {},
   "source": [
    "Derived Class:\n",
    "\n",
    "A derived class, also known as a subclass or child class, is a class that inherits properties and behaviors from a base class.\n",
    "The derived class extends or specializes the base class by adding its own unique attributes and methods or by overriding the inherited ones."
   ]
  },
  {
   "cell_type": "code",
   "execution_count": 1,
   "id": "7c8441c3",
   "metadata": {},
   "outputs": [
    {
     "name": "stdout",
     "output_type": "stream",
     "text": [
      "The animal makes a sound.\n",
      "Buddy barks.\n"
     ]
    }
   ],
   "source": [
    "# Base class\n",
    "class Animal:\n",
    "    def __init__(self, name):\n",
    "        self.name = name\n",
    "\n",
    "    def speak(self):\n",
    "        print(\"The animal makes a sound.\")\n",
    "\n",
    "# Derived class\n",
    "class Dog(Animal):\n",
    "    def __init__(self, name):\n",
    "        super().__init__(name)\n",
    "\n",
    "    def speak(self):\n",
    "        print(f\"{self.name} barks.\")\n",
    "\n",
    "# Creating objects of the derived class\n",
    "animal = Animal(\"Generic Animal\")\n",
    "dog = Dog(\"Buddy\")\n",
    "\n",
    "# Calling methods\n",
    "animal.speak() \n",
    "dog.speak()     \n"
   ]
  },
  {
   "cell_type": "markdown",
   "id": "97dd4a0a",
   "metadata": {},
   "source": [
    "### 4. What is the significance of the \"protected\" access modifier in inheritance? How does it differ from \"private\" and \"public\" modifiers?"
   ]
  },
  {
   "cell_type": "markdown",
   "id": "f46f3c88",
   "metadata": {},
   "source": [
    "With the \"protected\" access modifier, a class member is accessible within the class itself and its subclasses (derived classes).\n",
    "Protected members are not accessible outside the class hierarchy, meaning they cannot be accessed by objects of the class or other unrelated classes.\n",
    "Protected members provide a level of encapsulation, allowing derived classes to access and utilize the member while preventing direct access from external sources.\n",
    "The \"protected\" modifier is denoted by a single underscore (_) before the member name."
   ]
  },
  {
   "cell_type": "code",
   "execution_count": 3,
   "id": "bea5b644",
   "metadata": {},
   "outputs": [],
   "source": [
    "class BaseClass:\n",
    "    def __init__(self):\n",
    "        self._protected_attribute = \"Protected Attribute\"\n",
    "\n",
    "    def _protected_method(self):\n",
    "        print(\"This is a protected method.\")\n",
    "\n",
    "class DerivedClass(BaseClass):\n",
    "    def __init__(self):\n",
    "        super().__init__()\n",
    "\n",
    "    def access_protected(self):\n",
    "        # Accessing protected attribute\n",
    "        print(self._protected_attribute)    \n",
    "        self._protected_method()           \n"
   ]
  },
  {
   "cell_type": "markdown",
   "id": "749cbef9",
   "metadata": {},
   "source": [
    "With the \"private\" access modifier, a class member is accessible only within the class itself.\n",
    "Private members are not directly accessible by derived classes or external sources.\n",
    "Private members provide strong encapsulation and hide implementation details, ensuring that only the class itself can access and modify them.\n",
    "The \"private\" modifier is denoted by a double underscore (__) before the member name."
   ]
  },
  {
   "cell_type": "code",
   "execution_count": 4,
   "id": "0a295466",
   "metadata": {},
   "outputs": [],
   "source": [
    "class MyClass:\n",
    "    def __init__(self):\n",
    "        self.__private_attribute = \"Private Attribute\"\n",
    "\n",
    "    def __private_method(self):\n",
    "        print(\"This is a private method.\")\n",
    "\n",
    "    def access_private(self):\n",
    "        print(self.__private_attribute)    # Accessing private attribute\n",
    "        self.__private_method()            # Accessing private method\n"
   ]
  },
  {
   "cell_type": "markdown",
   "id": "cd064484",
   "metadata": {},
   "source": [
    "With the \"public\" access modifier, a class member is accessible from anywhere, including within the class, derived classes, and external sources.\n",
    "Public members have no access restrictions and can be accessed and modified freely.\n",
    "Public members are typically used for attributes and methods that need to be accessed and utilized by any part of the code."
   ]
  },
  {
   "cell_type": "code",
   "execution_count": 5,
   "id": "3bffce31",
   "metadata": {},
   "outputs": [],
   "source": [
    "class MyClass:\n",
    "    def __init__(self):\n",
    "        self.public_attribute = \"Public Attribute\"\n",
    "\n",
    "    def public_method(self):\n",
    "        print(\"This is a public method.\")\n",
    "\n",
    "    def access_public(self):\n",
    "        print(self.public_attribute)    # Accessing public attribute\n",
    "        self.public_method()            # Accessing public method\n"
   ]
  },
  {
   "cell_type": "markdown",
   "id": "082515fa",
   "metadata": {},
   "source": [
    "### 5. What is the purpose of the \"super\" keyword in inheritance? Provide an example."
   ]
  },
  {
   "cell_type": "markdown",
   "id": "1700777a",
   "metadata": {},
   "source": [
    "The main purposes of the \"super\" keyword in inheritance are\n",
    "Accessing superclass methods: The \"super\" keyword can be used to call a method defined in the superclass, even if the subclass has overridden that method. It enables the subclass to extend or modify the behavior of the superclass's method while still utilizing its functionality.\n",
    "\n",
    "Accessing superclass constructors: The \"super\" keyword is used to call the constructor of the superclass from the subclass. It allows the subclass to initialize the inherited attributes defined in the superclass or perform additional initialization before or after calling the superclass's constructor."
   ]
  },
  {
   "cell_type": "code",
   "execution_count": 6,
   "id": "e19cff31",
   "metadata": {},
   "outputs": [
    {
     "name": "stdout",
     "output_type": "stream",
     "text": [
      "Toyota Camry is starting.\n",
      "Toyota Camry is running on Petrol.\n"
     ]
    }
   ],
   "source": [
    "class Vehicle:\n",
    "    def __init__(self, name):\n",
    "        self.name = name\n",
    "\n",
    "    def start(self):\n",
    "        print(f\"{self.name} is starting.\")\n",
    "\n",
    "class Car(Vehicle):\n",
    "    def __init__(self, name, fuel_type):\n",
    "        super().__init__(name)\n",
    "        self.fuel_type = fuel_type\n",
    "\n",
    "    def start(self):\n",
    "        super().start()\n",
    "        print(f\"{self.name} is running on {self.fuel_type}.\")\n",
    "\n",
    "# Creating an object of the Car class\n",
    "car = Car(\"Toyota Camry\", \"Petrol\")\n",
    "\n",
    "# Calling the start() method\n",
    "car.start()\n"
   ]
  },
  {
   "cell_type": "markdown",
   "id": "ba77c17b",
   "metadata": {},
   "source": [
    "### 6. Create a base class called \"Vehicle\" with attributes like \"make\", \"model\", and \"year\". Then, create a derived class called \"Car\" that inherits from \"Vehicle\" and adds an attribute called \"fuel_type\". Implement appropriate methods in both classes."
   ]
  },
  {
   "cell_type": "code",
   "execution_count": 8,
   "id": "08513973",
   "metadata": {},
   "outputs": [
    {
     "name": "stdout",
     "output_type": "stream",
     "text": [
      "Vehicle Information:\n",
      "Make: Toyota\n",
      "Model: Camry\n",
      "Year: 2021\n",
      "Fuel Type: Petrol\n"
     ]
    }
   ],
   "source": [
    "class Vehicle:\n",
    "    def __init__(self, make, model, year):\n",
    "        self.make = make\n",
    "        self.model = model\n",
    "        self.year = year\n",
    "\n",
    "    def display_info(self):\n",
    "        print(\"Vehicle Information:\")\n",
    "        print(f\"Make: {self.make}\")\n",
    "        print(f\"Model: {self.model}\")\n",
    "        print(f\"Year: {self.year}\")\n",
    "\n",
    "\n",
    "class Car(Vehicle):\n",
    "    def __init__(self, make, model, year, fuel_type):\n",
    "        super().__init__(make, model, year)\n",
    "        self.fuel_type = fuel_type\n",
    "\n",
    "    def display_info(self):\n",
    "        super().display_info()\n",
    "        print(f\"Fuel Type: {self.fuel_type}\")\n",
    "\n",
    "\n",
    "# Creating an object of the Car class\n",
    "car = Car(\"Toyota\", \"Camry\", 2021, \"Petrol\")\n",
    "\n",
    "# Displaying vehicle information\n",
    "car.display_info()\n"
   ]
  },
  {
   "cell_type": "markdown",
   "id": "5fc9665d",
   "metadata": {},
   "source": [
    "### 7. Create a base class called \"Employee\" with attributes like \"name\" and \"salary.\" Derive two classes, \"Manager\" and \"Developer,\" from \"Employee.\" Add an additional attribute called \"department\" for the \"Manager\" class and \"programming_language\" for the \"Developer\" class."
   ]
  },
  {
   "cell_type": "code",
   "execution_count": 9,
   "id": "b73dbc59",
   "metadata": {},
   "outputs": [
    {
     "name": "stdout",
     "output_type": "stream",
     "text": [
      "Employee Information:\n",
      "Name: John Doe\n",
      "Salary: 50000\n",
      "Department: Sales\n",
      "\n",
      "Employee Information:\n",
      "Name: Jane Smith\n",
      "Salary: 60000\n",
      "Programming Language: Python\n"
     ]
    }
   ],
   "source": [
    "class Employee:\n",
    "    def __init__(self, name, salary):\n",
    "        self.name = name\n",
    "        self.salary = salary\n",
    "\n",
    "    def display_info(self):\n",
    "        print(\"Employee Information:\")\n",
    "        print(f\"Name: {self.name}\")\n",
    "        print(f\"Salary: {self.salary}\")\n",
    "\n",
    "\n",
    "class Manager(Employee):\n",
    "    def __init__(self, name, salary, department):\n",
    "        super().__init__(name, salary)\n",
    "        self.department = department\n",
    "\n",
    "    def display_info(self):\n",
    "        super().display_info()\n",
    "        print(f\"Department: {self.department}\")\n",
    "\n",
    "\n",
    "class Developer(Employee):\n",
    "    def __init__(self, name, salary, programming_language):\n",
    "        super().__init__(name, salary)\n",
    "        self.programming_language = programming_language\n",
    "\n",
    "    def display_info(self):\n",
    "        super().display_info()\n",
    "        print(f\"Programming Language: {self.programming_language}\")\n",
    "\n",
    "\n",
    "# Creating objects of the Manager and Developer classes\n",
    "manager = Manager(\"John Doe\", 50000, \"Sales\")\n",
    "developer = Developer(\"Jane Smith\", 60000, \"Python\")\n",
    "\n",
    "# Displaying employee information\n",
    "manager.display_info()\n",
    "print()  # Print an empty line for clarity\n",
    "developer.display_info()\n"
   ]
  },
  {
   "cell_type": "markdown",
   "id": "604a722a",
   "metadata": {},
   "source": [
    "### 8. Design a base class called \"Shape\" with attributes like \"colour\" and \"border_width.\" Create derived classes, \"Rectangle\" and \"Circle,\" that inherit from \"Shape\" and add specific attributes like \"length\" and \"width\" for the \"Rectangle\" class and \"radius\" for the \"Circle\" class."
   ]
  },
  {
   "cell_type": "code",
   "execution_count": 10,
   "id": "7036b7c1",
   "metadata": {},
   "outputs": [
    {
     "name": "stdout",
     "output_type": "stream",
     "text": [
      "Shape Information:\n",
      "Colour: Red\n",
      "Border Width: 2\n",
      "Length: 10\n",
      "Width: 5\n",
      "\n",
      "Shape Information:\n",
      "Colour: Blue\n",
      "Border Width: 1\n",
      "Radius: 7\n"
     ]
    }
   ],
   "source": [
    "class Shape:\n",
    "    def __init__(self, colour, border_width):\n",
    "        self.colour = colour\n",
    "        self.border_width = border_width\n",
    "\n",
    "    def display_info(self):\n",
    "        print(\"Shape Information:\")\n",
    "        print(f\"Colour: {self.colour}\")\n",
    "        print(f\"Border Width: {self.border_width}\")\n",
    "\n",
    "\n",
    "class Rectangle(Shape):\n",
    "    def __init__(self, colour, border_width, length, width):\n",
    "        super().__init__(colour, border_width)\n",
    "        self.length = length\n",
    "        self.width = width\n",
    "\n",
    "    def display_info(self):\n",
    "        super().display_info()\n",
    "        print(f\"Length: {self.length}\")\n",
    "        print(f\"Width: {self.width}\")\n",
    "\n",
    "\n",
    "class Circle(Shape):\n",
    "    def __init__(self, colour, border_width, radius):\n",
    "        super().__init__(colour, border_width)\n",
    "        self.radius = radius\n",
    "\n",
    "    def display_info(self):\n",
    "        super().display_info()\n",
    "        print(f\"Radius: {self.radius}\")\n",
    "\n",
    "\n",
    "# Creating objects of the Rectangle and Circle classes\n",
    "rectangle = Rectangle(\"Red\", 2, 10, 5)\n",
    "circle = Circle(\"Blue\", 1, 7)\n",
    "\n",
    "# Displaying shape information\n",
    "rectangle.display_info()\n",
    "print()  # Print an empty line for clarity\n",
    "circle.display_info()\n"
   ]
  },
  {
   "cell_type": "markdown",
   "id": "e41d0e30",
   "metadata": {},
   "source": [
    "### 9. Create a base class called \"Device\" with attributes like \"brand\" and \"model.\" Derive two classes, \"Phone\" and \"Tablet,\" from \"Device.\" Add specific attributes like \"screen_size\" for the \"Phone\" class and \"battery_capacity\" for the \"Tablet\" class."
   ]
  },
  {
   "cell_type": "code",
   "execution_count": 11,
   "id": "fc8dc030",
   "metadata": {},
   "outputs": [
    {
     "name": "stdout",
     "output_type": "stream",
     "text": [
      "Device Information:\n",
      "Brand: Apple\n",
      "Model: iPhone 12\n",
      "Screen Size: 6.1 inches\n",
      "\n",
      "Device Information:\n",
      "Brand: Samsung\n",
      "Model: Galaxy Tab S7\n",
      "Battery Capacity: 8000 mAh\n"
     ]
    }
   ],
   "source": [
    "class Device:\n",
    "    def __init__(self, brand, model):\n",
    "        self.brand = brand\n",
    "        self.model = model\n",
    "\n",
    "    def display_info(self):\n",
    "        print(\"Device Information:\")\n",
    "        print(f\"Brand: {self.brand}\")\n",
    "        print(f\"Model: {self.model}\")\n",
    "\n",
    "\n",
    "class Phone(Device):\n",
    "    def __init__(self, brand, model, screen_size):\n",
    "        super().__init__(brand, model)\n",
    "        self.screen_size = screen_size\n",
    "\n",
    "    def display_info(self):\n",
    "        super().display_info()\n",
    "        print(f\"Screen Size: {self.screen_size}\")\n",
    "\n",
    "\n",
    "class Tablet(Device):\n",
    "    def __init__(self, brand, model, battery_capacity):\n",
    "        super().__init__(brand, model)\n",
    "        self.battery_capacity = battery_capacity\n",
    "\n",
    "    def display_info(self):\n",
    "        super().display_info()\n",
    "        print(f\"Battery Capacity: {self.battery_capacity}\")\n",
    "\n",
    "\n",
    "# Creating objects of the Phone and Tablet classes\n",
    "phone = Phone(\"Apple\", \"iPhone 12\", \"6.1 inches\")\n",
    "tablet = Tablet(\"Samsung\", \"Galaxy Tab S7\", \"8000 mAh\")\n",
    "\n",
    "# Displaying device information\n",
    "phone.display_info()\n",
    "print()  # Print an empty line for clarity\n",
    "tablet.display_info()\n"
   ]
  },
  {
   "cell_type": "markdown",
   "id": "c4829f15",
   "metadata": {},
   "source": [
    "### 10. Create a base class called \"BankAccount\" with attributes like \"account_number\" and \"balance.\" Derive two classes, \"SavingsAccount\" and \"CheckingAccount,\" from \"BankAccount.\" Add specific methods like \"calculate_interest\" for the \"SavingsAccount\" class and \"deduct_fees\" for the \"CheckingAccount\" class."
   ]
  },
  {
   "cell_type": "code",
   "execution_count": 12,
   "id": "d4ca1242",
   "metadata": {},
   "outputs": [
    {
     "name": "stdout",
     "output_type": "stream",
     "text": [
      "Bank Account Information:\n",
      "Account Number: 123456789\n",
      "Balance: 5000\n",
      "\n",
      "Bank Account Information:\n",
      "Account Number: 987654321\n",
      "Balance: 1000\n",
      "\n",
      "Interest calculated: 250.0\n",
      "Fees deducted: 50\n",
      "\n",
      "Bank Account Information:\n",
      "Account Number: 123456789\n",
      "Balance: 5250.0\n",
      "\n",
      "Bank Account Information:\n",
      "Account Number: 987654321\n",
      "Balance: 950\n"
     ]
    }
   ],
   "source": [
    "class BankAccount:\n",
    "    def __init__(self, account_number, balance):\n",
    "        self.account_number = account_number\n",
    "        self.balance = balance\n",
    "\n",
    "    def display_info(self):\n",
    "        print(\"Bank Account Information:\")\n",
    "        print(f\"Account Number: {self.account_number}\")\n",
    "        print(f\"Balance: {self.balance}\")\n",
    "\n",
    "\n",
    "class SavingsAccount(BankAccount):\n",
    "    def __init__(self, account_number, balance):\n",
    "        super().__init__(account_number, balance)\n",
    "\n",
    "    def calculate_interest(self, interest_rate):\n",
    "        interest = self.balance * (interest_rate / 100)\n",
    "        self.balance += interest\n",
    "        print(f\"Interest calculated: {interest}\")\n",
    "\n",
    "    def display_info(self):\n",
    "        super().display_info()\n",
    "\n",
    "\n",
    "class CheckingAccount(BankAccount):\n",
    "    def __init__(self, account_number, balance):\n",
    "        super().__init__(account_number, balance)\n",
    "\n",
    "    def deduct_fees(self, fee_amount):\n",
    "        self.balance -= fee_amount\n",
    "        print(f\"Fees deducted: {fee_amount}\")\n",
    "\n",
    "    def display_info(self):\n",
    "        super().display_info()\n",
    "\n",
    "\n",
    "# Creating objects of the SavingsAccount and CheckingAccount classes\n",
    "savings_account = SavingsAccount(\"123456789\", 5000)\n",
    "checking_account = CheckingAccount(\"987654321\", 1000)\n",
    "\n",
    "# Displaying bank account information\n",
    "savings_account.display_info()\n",
    "print()  # Print an empty line for clarity\n",
    "checking_account.display_info()\n",
    "print()  # Print an empty line for clarity\n",
    "\n",
    "# Performing account-specific operations\n",
    "savings_account.calculate_interest(5)\n",
    "checking_account.deduct_fees(50)\n",
    "\n",
    "# Displaying updated bank account information\n",
    "print()  # Print an empty line for clarity\n",
    "savings_account.display_info()\n",
    "print()  # Print an empty line for clarity\n",
    "checking_account.display_info()\n"
   ]
  },
  {
   "cell_type": "code",
   "execution_count": null,
   "id": "1d4bb76f",
   "metadata": {},
   "outputs": [],
   "source": []
  }
 ],
 "metadata": {
  "kernelspec": {
   "display_name": "Python 3 (ipykernel)",
   "language": "python",
   "name": "python3"
  },
  "language_info": {
   "codemirror_mode": {
    "name": "ipython",
    "version": 3
   },
   "file_extension": ".py",
   "mimetype": "text/x-python",
   "name": "python",
   "nbconvert_exporter": "python",
   "pygments_lexer": "ipython3",
   "version": "3.10.9"
  }
 },
 "nbformat": 4,
 "nbformat_minor": 5
}
