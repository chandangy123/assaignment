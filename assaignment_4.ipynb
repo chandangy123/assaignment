{
 "cells": [
  {
   "cell_type": "markdown",
   "id": "b5e2c61f",
   "metadata": {},
   "source": [
    "###  1. What exactly is []?"
   ]
  },
  {
   "cell_type": "markdown",
   "id": "27657158",
   "metadata": {},
   "source": [
    "it exactly means a empty list i,e.. \n",
    "gyc=[]\n",
    "which is highly used when we want to take input of list of numbers\n",
    "for example."
   ]
  },
  {
   "cell_type": "code",
   "execution_count": 1,
   "id": "bb5412c4",
   "metadata": {},
   "outputs": [
    {
     "name": "stdout",
     "output_type": "stream",
     "text": [
      "enter the length of list2\n",
      "enter the numbers3\n",
      "enter the numbers6\n",
      "['3', '6']\n"
     ]
    }
   ],
   "source": [
    "gyc=[]\n",
    "w=int(input('enter the length of list'))\n",
    "for i in range(w):\n",
    "    e=input('enter the numbers')\n",
    "    gyc.append(e)\n",
    "    \n",
    "print(gyc)"
   ]
  },
  {
   "cell_type": "markdown",
   "id": "62a33213",
   "metadata": {},
   "source": [
    "### 2. In a list of values stored in a variable called spam, how would you assign the value &#39;hello&#39; as the\n",
    "third value? (Assume [2, 4, 6, 8, 10] are in spam.)"
   ]
  },
  {
   "cell_type": "code",
   "execution_count": 2,
   "id": "1b3f1b19",
   "metadata": {},
   "outputs": [
    {
     "name": "stdout",
     "output_type": "stream",
     "text": [
      "[2, 4, 'hello', 8, 10]\n"
     ]
    }
   ],
   "source": [
    "spam=[2,4,6,8,10]\n",
    "spam[2]='hello'\n",
    "print(spam)"
   ]
  },
  {
   "cell_type": "markdown",
   "id": "c642c2d8",
   "metadata": {},
   "source": [
    "# Let&#39;s pretend the spam includes the list [&#39;a&#39;, &#39;b&#39;, &#39;c&#39;, &#39;d&#39;] for the next three queries.\n"
   ]
  },
  {
   "cell_type": "markdown",
   "id": "14139a96",
   "metadata": {},
   "source": [
    "### 3. 3. What is the value of spam[int(int(&#39;3&#39; * 2) / 11)]?"
   ]
  },
  {
   "cell_type": "code",
   "execution_count": 3,
   "id": "2c97dc1e",
   "metadata": {},
   "outputs": [],
   "source": [
    "spam=['a','b','c','d']"
   ]
  },
  {
   "cell_type": "code",
   "execution_count": 4,
   "id": "fe3ebf9f",
   "metadata": {},
   "outputs": [
    {
     "ename": "TypeError",
     "evalue": "unsupported operand type(s) for /: 'str' and 'int'",
     "output_type": "error",
     "traceback": [
      "\u001b[1;31m---------------------------------------------------------------------------\u001b[0m",
      "\u001b[1;31mTypeError\u001b[0m                                 Traceback (most recent call last)",
      "Cell \u001b[1;32mIn[4], line 1\u001b[0m\n\u001b[1;32m----> 1\u001b[0m spam[\u001b[38;5;28mint\u001b[39m(\u001b[38;5;124;43m'\u001b[39;49m\u001b[38;5;124;43m3\u001b[39;49m\u001b[38;5;124;43m'\u001b[39;49m\u001b[38;5;241;43m*\u001b[39;49m\u001b[38;5;241;43m2\u001b[39;49m\u001b[38;5;241;43m/\u001b[39;49m\u001b[38;5;241;43m11\u001b[39;49m)]\n",
      "\u001b[1;31mTypeError\u001b[0m: unsupported operand type(s) for /: 'str' and 'int'"
     ]
    }
   ],
   "source": [
    "spam[int('3'*2/11)]"
   ]
  },
  {
   "cell_type": "code",
   "execution_count": 5,
   "id": "25934149",
   "metadata": {},
   "outputs": [],
   "source": [
    "#because it treated '3' as a string and it cannot multiply string with integer 2 , therefore the correct operation is"
   ]
  },
  {
   "cell_type": "code",
   "execution_count": 6,
   "id": "b7eb15c6",
   "metadata": {},
   "outputs": [
    {
     "data": {
      "text/plain": [
       "'a'"
      ]
     },
     "execution_count": 6,
     "metadata": {},
     "output_type": "execute_result"
    }
   ],
   "source": [
    "spam[int(3*2/11)]"
   ]
  },
  {
   "cell_type": "markdown",
   "id": "2bb66ff2",
   "metadata": {},
   "source": [
    "### 4. What is the value of spam[-1]?"
   ]
  },
  {
   "cell_type": "code",
   "execution_count": 7,
   "id": "6248d0bc",
   "metadata": {},
   "outputs": [
    {
     "data": {
      "text/plain": [
       "'d'"
      ]
     },
     "execution_count": 7,
     "metadata": {},
     "output_type": "execute_result"
    }
   ],
   "source": [
    "spam[-1]"
   ]
  },
  {
   "cell_type": "markdown",
   "id": "7df39da3",
   "metadata": {},
   "source": [
    "### 5. What is the value of spam[:2]?"
   ]
  },
  {
   "cell_type": "code",
   "execution_count": 8,
   "id": "727dda59",
   "metadata": {},
   "outputs": [
    {
     "data": {
      "text/plain": [
       "['a', 'b']"
      ]
     },
     "execution_count": 8,
     "metadata": {},
     "output_type": "execute_result"
    }
   ],
   "source": [
    "spam[:2]"
   ]
  },
  {
   "cell_type": "markdown",
   "id": "9cef023f",
   "metadata": {},
   "source": [
    "# Let&#39;s pretend bacon has the list [3.14, &#39;cat,&#39; 11, &#39;cat,&#39; True] for the next three questions."
   ]
  },
  {
   "cell_type": "code",
   "execution_count": 9,
   "id": "29b8f32f",
   "metadata": {},
   "outputs": [],
   "source": [
    "bacon=[3.14,'cat',11,'cat',True]"
   ]
  },
  {
   "cell_type": "markdown",
   "id": "a6e3837b",
   "metadata": {},
   "source": [
    "### 6. What is the value of bacon.index(&#39;cat&#39;)?"
   ]
  },
  {
   "cell_type": "code",
   "execution_count": 10,
   "id": "fa3b468f",
   "metadata": {},
   "outputs": [
    {
     "data": {
      "text/plain": [
       "1"
      ]
     },
     "execution_count": 10,
     "metadata": {},
     "output_type": "execute_result"
    }
   ],
   "source": [
    "bacon.index('cat')"
   ]
  },
  {
   "cell_type": "markdown",
   "id": "f0ef9bb8",
   "metadata": {},
   "source": [
    "### 7. How does bacon.append(99) change the look of the list value in bacon?"
   ]
  },
  {
   "cell_type": "code",
   "execution_count": 11,
   "id": "badcb173",
   "metadata": {},
   "outputs": [],
   "source": [
    "bacon.append(99)"
   ]
  },
  {
   "cell_type": "code",
   "execution_count": 12,
   "id": "e1838920",
   "metadata": {},
   "outputs": [
    {
     "data": {
      "text/plain": [
       "[3.14, 'cat', 11, 'cat', True, 99]"
      ]
     },
     "execution_count": 12,
     "metadata": {},
     "output_type": "execute_result"
    }
   ],
   "source": [
    "bacon"
   ]
  },
  {
   "cell_type": "code",
   "execution_count": 13,
   "id": "5020b255",
   "metadata": {},
   "outputs": [],
   "source": [
    "# this append function usually add the defined value at the end of the list"
   ]
  },
  {
   "cell_type": "markdown",
   "id": "b9b6c581",
   "metadata": {},
   "source": [
    "### 8. How does bacon.remove(&#39;cat&#39;) change the look of the list in bacon?"
   ]
  },
  {
   "cell_type": "code",
   "execution_count": 14,
   "id": "fbd00aeb",
   "metadata": {},
   "outputs": [],
   "source": [
    "bacon.remove('cat')"
   ]
  },
  {
   "cell_type": "code",
   "execution_count": 15,
   "id": "fb6bd6b3",
   "metadata": {},
   "outputs": [
    {
     "data": {
      "text/plain": [
       "[3.14, 11, 'cat', True, 99]"
      ]
     },
     "execution_count": 15,
     "metadata": {},
     "output_type": "execute_result"
    }
   ],
   "source": [
    "bacon"
   ]
  },
  {
   "cell_type": "code",
   "execution_count": 16,
   "id": "0ccccb60",
   "metadata": {},
   "outputs": [],
   "source": [
    "# remove function usually remove the defined value, but here we can see that the cat which is removed is of lower indexing."
   ]
  },
  {
   "cell_type": "markdown",
   "id": "58c972d4",
   "metadata": {},
   "source": [
    "### 9. What are the list concatenation and list replication operators?"
   ]
  },
  {
   "cell_type": "code",
   "execution_count": 17,
   "id": "1cff8734",
   "metadata": {},
   "outputs": [
    {
     "name": "stdout",
     "output_type": "stream",
     "text": [
      "[2, 4, 6, 8, 10, 1, 3, 5, 7, 9]\n"
     ]
    }
   ],
   "source": [
    "#list concatenation is used to merge two list, operator used is '+' between list\n",
    "abc=[2,4,6,8,10]\n",
    "mno=[1,3,5,7,9]\n",
    "con_lst=abc+mno\n",
    "print(con_lst)"
   ]
  },
  {
   "cell_type": "code",
   "execution_count": 18,
   "id": "b686d1f8",
   "metadata": {},
   "outputs": [
    {
     "data": {
      "text/plain": [
       "[1, 3, 5, 7, 9, 1, 3, 5, 7, 9]"
      ]
     },
     "execution_count": 18,
     "metadata": {},
     "output_type": "execute_result"
    }
   ],
   "source": [
    "# replication means replicating the existed list with certain number of times,operator used is *, for example\n",
    "xyz=[1,3,5,7,9]\n",
    "repli=xyz*2\n",
    "repli"
   ]
  },
  {
   "cell_type": "code",
   "execution_count": 19,
   "id": "721fd461",
   "metadata": {},
   "outputs": [
    {
     "data": {
      "text/plain": [
       "[1, 3, 5, 7, 9, 1, 3, 5, 7, 9, 1, 3, 5, 7, 9, 1, 3, 5, 7, 9, 1, 3, 5, 7, 9]"
      ]
     },
     "execution_count": 19,
     "metadata": {},
     "output_type": "execute_result"
    }
   ],
   "source": [
    "dc=xyz*5\n",
    "dc"
   ]
  },
  {
   "cell_type": "markdown",
   "id": "19201a6d",
   "metadata": {},
   "source": [
    "### 10. What is difference between the list methods append() and insert()?"
   ]
  },
  {
   "cell_type": "markdown",
   "id": "d07cdece",
   "metadata": {},
   "source": [
    "append() usually add the value to the end of the list and take only one argument,\n",
    "but insert() method usually insert value to the perticularly mentioned position and take two arguments"
   ]
  },
  {
   "cell_type": "code",
   "execution_count": 20,
   "id": "140f928e",
   "metadata": {},
   "outputs": [
    {
     "data": {
      "text/plain": [
       "[1, 2, 3, 4, 5, 6, 'chandan']"
      ]
     },
     "execution_count": 20,
     "metadata": {},
     "output_type": "execute_result"
    }
   ],
   "source": [
    "# for eaxpmle:\n",
    "gyc=[1,2,3,4,5,6]\n",
    "gyc.append('chandan')\n",
    "gyc"
   ]
  },
  {
   "cell_type": "code",
   "execution_count": 21,
   "id": "4a37bfe3",
   "metadata": {},
   "outputs": [
    {
     "data": {
      "text/plain": [
       "[1, 2, 'prajwal', 3, 4, 5, 6, 'chandan']"
      ]
     },
     "execution_count": 21,
     "metadata": {},
     "output_type": "execute_result"
    }
   ],
   "source": [
    "gyc.insert(2,'prajwal')\n",
    "gyc"
   ]
  },
  {
   "cell_type": "markdown",
   "id": "1d61003c",
   "metadata": {},
   "source": [
    "### 11. What are the two methods for removing items from a list?"
   ]
  },
  {
   "cell_type": "markdown",
   "id": "8e088de2",
   "metadata": {},
   "source": [
    "remove() and pop() are the two methods used to remove the items in the list\n",
    "for example"
   ]
  },
  {
   "cell_type": "code",
   "execution_count": 22,
   "id": "6e3ab5cd",
   "metadata": {},
   "outputs": [
    {
     "data": {
      "text/plain": [
       "'chandan'"
      ]
     },
     "execution_count": 22,
     "metadata": {},
     "output_type": "execute_result"
    }
   ],
   "source": [
    "gyc.pop()"
   ]
  },
  {
   "cell_type": "code",
   "execution_count": 23,
   "id": "dec10491",
   "metadata": {},
   "outputs": [],
   "source": [
    "#pop usually remove last element it we dont specify the index\n",
    "#we can see here the removed element and remaining list is"
   ]
  },
  {
   "cell_type": "code",
   "execution_count": 24,
   "id": "e4654b72",
   "metadata": {},
   "outputs": [
    {
     "data": {
      "text/plain": [
       "[1, 2, 'prajwal', 3, 4, 5, 6]"
      ]
     },
     "execution_count": 24,
     "metadata": {},
     "output_type": "execute_result"
    }
   ],
   "source": [
    "gyc"
   ]
  },
  {
   "cell_type": "code",
   "execution_count": 25,
   "id": "d23a3bee",
   "metadata": {},
   "outputs": [
    {
     "data": {
      "text/plain": [
       "'prajwal'"
      ]
     },
     "execution_count": 25,
     "metadata": {},
     "output_type": "execute_result"
    }
   ],
   "source": [
    "gyc.pop(2)"
   ]
  },
  {
   "cell_type": "code",
   "execution_count": 26,
   "id": "bf5011a4",
   "metadata": {},
   "outputs": [],
   "source": [
    "#here i specified the perticula index 2, it will removed the 2nd indexed value"
   ]
  },
  {
   "cell_type": "code",
   "execution_count": 27,
   "id": "d32e4d24",
   "metadata": {},
   "outputs": [
    {
     "data": {
      "text/plain": [
       "[1, 2, 3, 4, 5, 6]"
      ]
     },
     "execution_count": 27,
     "metadata": {},
     "output_type": "execute_result"
    }
   ],
   "source": [
    "gyc"
   ]
  },
  {
   "cell_type": "code",
   "execution_count": 28,
   "id": "8630205c",
   "metadata": {},
   "outputs": [],
   "source": [
    "#Now the remove used to directly specify the value which we want to remove"
   ]
  },
  {
   "cell_type": "code",
   "execution_count": 29,
   "id": "0701648a",
   "metadata": {},
   "outputs": [],
   "source": [
    "gyc.remove(5)"
   ]
  },
  {
   "cell_type": "code",
   "execution_count": 30,
   "id": "085207c5",
   "metadata": {},
   "outputs": [
    {
     "data": {
      "text/plain": [
       "[1, 2, 3, 4, 6]"
      ]
     },
     "execution_count": 30,
     "metadata": {},
     "output_type": "execute_result"
    }
   ],
   "source": [
    "gyc"
   ]
  },
  {
   "cell_type": "code",
   "execution_count": 31,
   "id": "db39d667",
   "metadata": {},
   "outputs": [],
   "source": [
    "#here we can see that, what evere value we specified that is removed"
   ]
  },
  {
   "cell_type": "markdown",
   "id": "80f23b2d",
   "metadata": {},
   "source": [
    "### 12. Describe how list values and string values are identical."
   ]
  },
  {
   "cell_type": "markdown",
   "id": "4f334d0d",
   "metadata": {},
   "source": [
    "#list and string both are the data types in python.\n",
    "#string is a part of list.\n",
    "#list may have integer, string, float values, and string having only characters.\n",
    "#list are mutable, but strings are not mutable, and individaul elements in list is immutable.\n",
    "#both list and string supports the length that indicates the number of elements that contain.\n",
    "#both support indexing and slicing"
   ]
  },
  {
   "cell_type": "markdown",
   "id": "7be7a94c",
   "metadata": {},
   "source": [
    "### 13. What&#39;s the difference between tuples and lists?"
   ]
  },
  {
   "cell_type": "markdown",
   "id": "866cbbc6",
   "metadata": {},
   "source": [
    "#mutability: lists are mutable and tuples are immutable.\n",
    "#syntax used: list will be defined inside the [] and tuple is defined inside ().\n",
    "#operators: list support some methods and operators i,e. remove(), pop(), insert(), append(), indexing and slicing, \n",
    "but tupples do not support these methods and operators.\n",
    "#memory: since the tuples are immutable, generally more memory-efficient than lists but  Lists, being mutable, require additional memory allocation to handle potential modifications.\n",
    "#time: tuple require less time and list require more time."
   ]
  },
  {
   "cell_type": "markdown",
   "id": "dd8c7473",
   "metadata": {},
   "source": [
    "### 14. How do you type a tuple value that only contains the integer 42?"
   ]
  },
  {
   "cell_type": "code",
   "execution_count": 32,
   "id": "296442ba",
   "metadata": {},
   "outputs": [],
   "source": [
    "tuple=(42,)"
   ]
  },
  {
   "cell_type": "markdown",
   "id": "5981f3db",
   "metadata": {},
   "source": [
    "#Without the presence of comma, Python would interpret the parentheses as regular parentheses rather than indicating a tuple."
   ]
  },
  {
   "cell_type": "markdown",
   "id": "b30aa13a",
   "metadata": {},
   "source": [
    "### 15. How do you get a list value&#39;s tuple form? How do you get a tuple value&#39;s list form?"
   ]
  },
  {
   "cell_type": "code",
   "execution_count": 33,
   "id": "021739f8",
   "metadata": {},
   "outputs": [],
   "source": [
    "#to convert  tuple to list we need to use the method list()\n",
    "gyc=(1,2,3,4,5,6,7,8,9)\n"
   ]
  },
  {
   "cell_type": "code",
   "execution_count": 34,
   "id": "75140cd3",
   "metadata": {},
   "outputs": [
    {
     "name": "stdout",
     "output_type": "stream",
     "text": [
      "[1, 2, 3, 4, 5, 6, 7, 8, 9]\n"
     ]
    }
   ],
   "source": [
    "tom = list(gyc)\n",
    "print(tom)"
   ]
  },
  {
   "cell_type": "code",
   "execution_count": null,
   "id": "9f14f93f",
   "metadata": {},
   "outputs": [],
   "source": [
    "#to convert list to tuple we need to use the method tuple()\n",
    "my_list = [1, 2, 3]\n",
    "my = tuple(my_list)\n",
    "\n",
    "print(my)"
   ]
  },
  {
   "cell_type": "markdown",
   "id": "6317aa24",
   "metadata": {},
   "source": [
    "### 16. Variables that &quot;contain&quot; list values are not necessarily lists themselves. Instead, what do they  contain?"
   ]
  },
  {
   "cell_type": "code",
   "execution_count": 35,
   "id": "9beae2ae",
   "metadata": {},
   "outputs": [],
   "source": [
    "# variables that \"contain\" list values in Python actually contain references to the list objects stored in memory, \n",
    "# allowing us to work with and manipulate the lists through those variables."
   ]
  },
  {
   "cell_type": "code",
   "execution_count": 36,
   "id": "28c40846",
   "metadata": {},
   "outputs": [
    {
     "name": "stdout",
     "output_type": "stream",
     "text": [
      "[1, 2, 3, 4]\n",
      "[1, 2, 3, 4]\n"
     ]
    }
   ],
   "source": [
    "mno = [1, 2, 3]\n",
    "another_mno = mno\n",
    "another_mno.append(4)\n",
    "\n",
    "print(mno)      \n",
    "print(another_mno) "
   ]
  },
  {
   "cell_type": "markdown",
   "id": "f9c4fe61",
   "metadata": {},
   "source": [
    "we can see here both are of same list, if we change variables in one list reflects changes in referenced list also."
   ]
  },
  {
   "cell_type": "markdown",
   "id": "0db31980",
   "metadata": {},
   "source": [
    "### 17. How do you distinguish between copy.copy() and copy.deepcopy()?"
   ]
  },
  {
   "cell_type": "markdown",
   "id": "378b19b3",
   "metadata": {},
   "source": [
    "the functions copy() and deepcopy() are used to create copies of objects.they differ in how they handle object references and nested objects."
   ]
  },
  {
   "cell_type": "markdown",
   "id": "d5dad08b",
   "metadata": {},
   "source": [
    "copy.copy() creates a shallow copy of an elements.It creates a new object and then copies \n",
    "the references to the nested objects of the original object. However, if the nested objects are mutable,\n",
    "any modifications made to them will affect both the original object and the copied object.\n"
   ]
  },
  {
   "cell_type": "code",
   "execution_count": 40,
   "id": "8f69e79d",
   "metadata": {},
   "outputs": [
    {
     "name": "stdout",
     "output_type": "stream",
     "text": [
      "[1, [2, 3, 4]]\n",
      "[1, [2, 3, 4]]\n"
     ]
    }
   ],
   "source": [
    "cat = [1, [2, 3]]\n",
    "new = copy.copy(cat)\n",
    "\n",
    "new[1].append(4)\n",
    "\n",
    "print(cat) \n",
    "print(new)"
   ]
  },
  {
   "cell_type": "code",
   "execution_count": null,
   "id": "28a9dddb",
   "metadata": {},
   "outputs": [],
   "source": [
    "copy.deepcopy() function creates a deep copy of an elements. It creates a completely independent copy of the object \n",
    "and all its nested objects. Modifying the nested objects in the copied object will not affect the original object"
   ]
  },
  {
   "cell_type": "code",
   "execution_count": 41,
   "id": "587b37fe",
   "metadata": {},
   "outputs": [
    {
     "name": "stdout",
     "output_type": "stream",
     "text": [
      "[1, [2, 3]]\n",
      "[1, [2, 3, 4]]\n"
     ]
    }
   ],
   "source": [
    "dog = [1, [2, 3]]\n",
    "new_dog = copy.deepcopy(dog)\n",
    "\n",
    "new_dog[1].append(4)\n",
    "\n",
    "print(dog) \n",
    "print(new_dog) "
   ]
  },
  {
   "cell_type": "code",
   "execution_count": null,
   "id": "a2fb7778",
   "metadata": {},
   "outputs": [],
   "source": []
  }
 ],
 "metadata": {
  "kernelspec": {
   "display_name": "Python 3 (ipykernel)",
   "language": "python",
   "name": "python3"
  },
  "language_info": {
   "codemirror_mode": {
    "name": "ipython",
    "version": 3
   },
   "file_extension": ".py",
   "mimetype": "text/x-python",
   "name": "python",
   "nbconvert_exporter": "python",
   "pygments_lexer": "ipython3",
   "version": "3.10.9"
  }
 },
 "nbformat": 4,
 "nbformat_minor": 5
}
