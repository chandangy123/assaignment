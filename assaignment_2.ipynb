{
 "cells": [
  {
   "cell_type": "markdown",
   "id": "595a28f4",
   "metadata": {},
   "source": [
    "###1.What are the two values of the Boolean data type? How do you write them?"
   ]
  },
  {
   "cell_type": "code",
   "execution_count": 1,
   "id": "843a4c36",
   "metadata": {},
   "outputs": [
    {
     "name": "stdout",
     "output_type": "stream",
     "text": [
      "True\n",
      "False\n"
     ]
    }
   ],
   "source": [
    "#two values are True and False\n",
    "x=True\n",
    "y=False\n",
    "print(x)\n",
    "print(y)"
   ]
  },
  {
   "cell_type": "markdown",
   "id": "e482581a",
   "metadata": {},
   "source": [
    "###2. What are the three different types of Boolean operators?"
   ]
  },
  {
   "cell_type": "markdown",
   "id": "9d630876",
   "metadata": {},
   "source": [
    "three different Boolean operator are \n",
    "And\n",
    "Or\n",
    "Not\n"
   ]
  },
  {
   "cell_type": "code",
   "execution_count": 2,
   "id": "b2c82d3c",
   "metadata": {},
   "outputs": [
    {
     "name": "stdout",
     "output_type": "stream",
     "text": [
      "5\n"
     ]
    }
   ],
   "source": [
    "x=3\n",
    "y=5\n",
    "print(x and y)"
   ]
  },
  {
   "cell_type": "code",
   "execution_count": 3,
   "id": "b256cc7c",
   "metadata": {},
   "outputs": [
    {
     "name": "stdout",
     "output_type": "stream",
     "text": [
      "3\n"
     ]
    }
   ],
   "source": [
    "print(x or y)"
   ]
  },
  {
   "cell_type": "code",
   "execution_count": 8,
   "id": "ecb44477",
   "metadata": {},
   "outputs": [
    {
     "name": "stdout",
     "output_type": "stream",
     "text": [
      "False\n"
     ]
    }
   ],
   "source": [
    "print( not x)"
   ]
  },
  {
   "cell_type": "markdown",
   "id": "aa08acc9",
   "metadata": {},
   "source": [
    "###Make a list of each Boolean operator&#39;s truth tables (i.e. every possible combination of Boolean\n",
    "values for the operator and what it evaluate )."
   ]
  },
  {
   "cell_type": "markdown",
   "id": "33fef3a9",
   "metadata": {},
   "source": [
    "for AND operator\n",
    "x        y       result\n",
    "True    True     True\n",
    "True    False    False\n",
    "False   True     False\n",
    "False   False    False"
   ]
  },
  {
   "cell_type": "markdown",
   "id": "1e206e50",
   "metadata": {},
   "source": [
    "for OR operator\n",
    "x        y      result\n",
    "True    True    True\n",
    "True    False   True\n",
    "False   True    True\n",
    "False   False   False"
   ]
  },
  {
   "cell_type": "markdown",
   "id": "cc4a0f62",
   "metadata": {},
   "source": [
    "for not operator\n",
    "x       result\n",
    "True    False\n",
    "False   True"
   ]
  },
  {
   "cell_type": "markdown",
   "id": "bbb4c69d",
   "metadata": {},
   "source": [
    "###What are the values of the following expressions?\n",
    "(5 &gt; 4) and (3 == 5)\n",
    "not (5 &gt; 4)\n",
    "(5 &gt; 4) or (3 == 5)\n",
    "not ((5 &gt; 4) or (3 == 5))\n",
    "(True and True) and (True == False)\n",
    "(not False) or (not True)"
   ]
  },
  {
   "cell_type": "code",
   "execution_count": 12,
   "id": "875d1c3a",
   "metadata": {},
   "outputs": [
    {
     "data": {
      "text/plain": [
       "False"
      ]
     },
     "execution_count": 12,
     "metadata": {},
     "output_type": "execute_result"
    }
   ],
   "source": [
    "(5 > 4) and (3 == 5)"
   ]
  },
  {
   "cell_type": "code",
   "execution_count": 13,
   "id": "8296f264",
   "metadata": {},
   "outputs": [
    {
     "data": {
      "text/plain": [
       "False"
      ]
     },
     "execution_count": 13,
     "metadata": {},
     "output_type": "execute_result"
    }
   ],
   "source": [
    "not (5> 4)"
   ]
  },
  {
   "cell_type": "code",
   "execution_count": 15,
   "id": "6f2d94c4",
   "metadata": {},
   "outputs": [
    {
     "data": {
      "text/plain": [
       "True"
      ]
     },
     "execution_count": 15,
     "metadata": {},
     "output_type": "execute_result"
    }
   ],
   "source": [
    "(5 > 4) or (3 == 5)"
   ]
  },
  {
   "cell_type": "code",
   "execution_count": 16,
   "id": "e26390bf",
   "metadata": {},
   "outputs": [
    {
     "data": {
      "text/plain": [
       "False"
      ]
     },
     "execution_count": 16,
     "metadata": {},
     "output_type": "execute_result"
    }
   ],
   "source": [
    "not ((5> 4) or (3 == 5))"
   ]
  },
  {
   "cell_type": "code",
   "execution_count": 17,
   "id": "68ddc4c7",
   "metadata": {},
   "outputs": [
    {
     "data": {
      "text/plain": [
       "False"
      ]
     },
     "execution_count": 17,
     "metadata": {},
     "output_type": "execute_result"
    }
   ],
   "source": [
    "(True and True) and (True == False)"
   ]
  },
  {
   "cell_type": "code",
   "execution_count": 18,
   "id": "86d24246",
   "metadata": {},
   "outputs": [
    {
     "data": {
      "text/plain": [
       "True"
      ]
     },
     "execution_count": 18,
     "metadata": {},
     "output_type": "execute_result"
    }
   ],
   "source": [
    "(not False) or (not True)"
   ]
  },
  {
   "cell_type": "markdown",
   "id": "17c3eb0d",
   "metadata": {},
   "source": [
    "###What are the six comparison operators?"
   ]
  },
  {
   "cell_type": "markdown",
   "id": "71b123e7",
   "metadata": {},
   "source": [
    "equal (=)\n",
    "not equal (!=)\n",
    "greater than (>)\n",
    "lesser than (<)\n",
    "greater than or equal (>=)\n",
    "lesser than or equal  (<=)"
   ]
  },
  {
   "cell_type": "markdown",
   "id": "0190dac8",
   "metadata": {},
   "source": [
    "###6. How do you tell the difference between the equal to and assignment operators?Describe a\n",
    "condition and when you would use one."
   ]
  },
  {
   "cell_type": "markdown",
   "id": "bcbbb118",
   "metadata": {},
   "source": [
    "assignment operator used to assaign the value to a variable\n",
    "like x=10\n",
    "\n",
    "where as equal to operator used to check the two values are equal or not \n",
    "for example\n",
    "x=30\n",
    "y=40\n",
    "if x==y:\n",
    "    print('equal')\n",
    "else:\n",
    "    print('not equal')"
   ]
  },
  {
   "cell_type": "markdown",
   "id": "7d6232fe",
   "metadata": {},
   "source": [
    "###Identify the three blocks in this code:\n",
    "spam = 0\n",
    "if spam == 10:\n",
    "print(&#39;eggs&#39;)\n",
    "if spam &gt; 5:\n",
    "print(&#39;bacon&#39;)\n",
    "else:\n",
    "print(&#39;ham&#39;)\n",
    "print(&#39;spam&#39;)\n",
    "print(&#39;spam&#39;)"
   ]
  },
  {
   "cell_type": "markdown",
   "id": "508fc022",
   "metadata": {},
   "source": [
    "spam =0\n",
    "#1st bolck is\n",
    "if spam==10:\n",
    "    print('eggs')\n",
    "#2nd block is\n",
    "if spam>5:\n",
    "    print('bacon')\n",
    "else:\n",
    "    print('him')\n",
    "    print('spam')\n",
    "    print('spam')"
   ]
  },
  {
   "cell_type": "markdown",
   "id": "5917201e",
   "metadata": {},
   "source": [
    "###Write code that prints Hello if 1 is stored in spam, prints Howdy if 2 is stored in spam, and prints\n",
    "Greetings! if anything else is stored in spam."
   ]
  },
  {
   "cell_type": "code",
   "execution_count": 25,
   "id": "19766e8d",
   "metadata": {},
   "outputs": [
    {
     "name": "stdout",
     "output_type": "stream",
     "text": [
      "enter the stored value: 15\n",
      "Greetings\n"
     ]
    }
   ],
   "source": [
    "spam=int(input('enter the stored value: '))\n",
    "if spam==1:\n",
    "    print('Hello')\n",
    "elif spam==2:\n",
    "    print('Howdy')\n",
    "else:\n",
    "    print('Greetings')"
   ]
  },
  {
   "cell_type": "markdown",
   "id": "0f597ee4",
   "metadata": {},
   "source": [
    "###9.If your programme is stuck in an endless loop, what keys you’ll press?"
   ]
  },
  {
   "cell_type": "markdown",
   "id": "88254a17",
   "metadata": {},
   "source": [
    "Ctrl+C"
   ]
  },
  {
   "cell_type": "markdown",
   "id": "2b39a7d2",
   "metadata": {},
   "source": [
    "###How can you tell the difference between break and continue?"
   ]
  },
  {
   "cell_type": "markdown",
   "id": "864f36c1",
   "metadata": {},
   "source": [
    "break used to terminate the entire exicution\n",
    "but contineous used to skip that particular stuff of current iterator"
   ]
  },
  {
   "cell_type": "markdown",
   "id": "ba0dcbde",
   "metadata": {},
   "source": [
    "###In a for loop, what is the difference between range(10), range(0, 10), and range(0, 10, 1)?"
   ]
  },
  {
   "cell_type": "markdown",
   "id": "c8df9015",
   "metadata": {},
   "source": [
    "in range(10) starting value is not mentioned and ending value is 10 and steps will take by default 1 and starting point also consider as 0\n",
    "in range(0,10) starting point is given 0 and ending point is given 10 but the step value is taken by default as 1, moreover it is similar to the range(10)\n",
    "in range(0,10,1) here they have prticularly mentioned the starting value as 0 and ending value as 10 and step value as 1 , so finally here all three are same \n",
    "these yields [0,1,2,3,4,5,6,7,8,9]"
   ]
  },
  {
   "cell_type": "markdown",
   "id": "1d116de8",
   "metadata": {},
   "source": [
    "###Write a short program that prints the numbers 1 to 10 using a for loop. Then write an equivalent\n",
    "program that prints the numbers 1 to 10 using a while loop."
   ]
  },
  {
   "cell_type": "code",
   "execution_count": 27,
   "id": "75fc192a",
   "metadata": {},
   "outputs": [
    {
     "name": "stdout",
     "output_type": "stream",
     "text": [
      "1\n",
      "2\n",
      "3\n",
      "4\n",
      "5\n",
      "6\n",
      "7\n",
      "8\n",
      "9\n",
      "10\n"
     ]
    }
   ],
   "source": [
    "for i in range(1,11):\n",
    "    print(i)"
   ]
  },
  {
   "cell_type": "code",
   "execution_count": 30,
   "id": "f7f08cf0",
   "metadata": {
    "scrolled": false
   },
   "outputs": [
    {
     "name": "stdout",
     "output_type": "stream",
     "text": [
      "1\n",
      "2\n",
      "3\n",
      "4\n",
      "5\n",
      "6\n",
      "7\n",
      "8\n",
      "9\n",
      "10\n"
     ]
    }
   ],
   "source": [
    "x=1\n",
    "while x<=10:\n",
    "    print(x)\n",
    "    x=x+1"
   ]
  },
  {
   "cell_type": "markdown",
   "id": "7dffd34a",
   "metadata": {},
   "source": [
    "###If you had a function named bacon() inside a module named spam, how would you call it after\n",
    "importing spam?"
   ]
  },
  {
   "cell_type": "markdown",
   "id": "56e839ae",
   "metadata": {},
   "source": [
    "import spam\n",
    "spam.bacon()"
   ]
  },
  {
   "cell_type": "code",
   "execution_count": null,
   "id": "7db09014",
   "metadata": {},
   "outputs": [],
   "source": []
  }
 ],
 "metadata": {
  "kernelspec": {
   "display_name": "Python 3 (ipykernel)",
   "language": "python",
   "name": "python3"
  },
  "language_info": {
   "codemirror_mode": {
    "name": "ipython",
    "version": 3
   },
   "file_extension": ".py",
   "mimetype": "text/x-python",
   "name": "python",
   "nbconvert_exporter": "python",
   "pygments_lexer": "ipython3",
   "version": "3.10.9"
  }
 },
 "nbformat": 4,
 "nbformat_minor": 5
}
