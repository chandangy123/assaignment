{
 "cells": [
  {
   "cell_type": "markdown",
   "id": "4016716a",
   "metadata": {},
   "source": [
    "### 1. In Python, what is the difference between a built-in function and a user-defined function? Provide anexample of each."
   ]
  },
  {
   "cell_type": "markdown",
   "id": "51925f18",
   "metadata": {},
   "source": [
    "Built-in functions are pre-defined functions provided by the Python programming language. \n",
    "They are readily available for use without requiring any additional code or import statements. \n",
    "Built-in functions are designed to perform common tasks and operations, covering a wide range of functionalities."
   ]
  },
  {
   "cell_type": "code",
   "execution_count": 2,
   "id": "b8b5a0b3",
   "metadata": {},
   "outputs": [
    {
     "name": "stdout",
     "output_type": "stream",
     "text": [
      "5\n"
     ]
    }
   ],
   "source": [
    "# Using a built-in function: len()\n",
    "my_list = [1, 2, 3, 4, 5]\n",
    "length = len(my_list)\n",
    "print(length)"
   ]
  },
  {
   "cell_type": "markdown",
   "id": "728d9104",
   "metadata": {},
   "source": [
    "User-defined functions are functions created by the users or developers themselves to perform specific tasks or operations. \n",
    "These functions are defined using the def keyword followed by a function name, parameters (if any), \n",
    "and a block of code defining the functionality of the function."
   ]
  },
  {
   "cell_type": "code",
   "execution_count": 3,
   "id": "c8660aa5",
   "metadata": {},
   "outputs": [
    {
     "name": "stdout",
     "output_type": "stream",
     "text": [
      "15\n"
     ]
    }
   ],
   "source": [
    "# Defining a user-defined function: calculate_area()\n",
    "def calculate_area(length, width):\n",
    "    area = length * width\n",
    "    return area\n",
    "length = 5\n",
    "width = 3\n",
    "result = calculate_area(length, width)\n",
    "print(result) \n"
   ]
  },
  {
   "cell_type": "markdown",
   "id": "d2d92476",
   "metadata": {},
   "source": [
    "### 2. How can you pass arguments to a function in Python? Explain the difference between positionalarguments and keyword arguments."
   ]
  },
  {
   "cell_type": "markdown",
   "id": "e7e5e2e3",
   "metadata": {},
   "source": [
    "Positional arguments are passed to a function based on their position or order. \n",
    "The arguments are matched with the function parameters in the same order.\n",
    "The number of arguments and their positions must match the function's parameter definition."
   ]
  },
  {
   "cell_type": "code",
   "execution_count": 4,
   "id": "ed2bea7a",
   "metadata": {},
   "outputs": [
    {
     "name": "stdout",
     "output_type": "stream",
     "text": [
      "Hello Alice, you are 25 years old.\n"
     ]
    }
   ],
   "source": [
    "def greet(name, age):\n",
    "    print(f\"Hello {name}, you are {age} years old.\")\n",
    "\n",
    "greet(\"Alice\", 25)\n"
   ]
  },
  {
   "cell_type": "markdown",
   "id": "dbb7a53f",
   "metadata": {},
   "source": [
    "Keyword arguments are passed to a function using the name of the parameter they correspond to, \n",
    "followed by the value. This allows you to pass arguments to a function out of order,\n",
    "specifying which value corresponds to which parameter explicitly."
   ]
  },
  {
   "cell_type": "code",
   "execution_count": 5,
   "id": "78872248",
   "metadata": {},
   "outputs": [
    {
     "name": "stdout",
     "output_type": "stream",
     "text": [
      "Hello Bob, you are 30 years old.\n"
     ]
    }
   ],
   "source": [
    "def greet(name, age):\n",
    "    print(f\"Hello {name}, you are {age} years old.\")\n",
    "\n",
    "greet(age=30, name=\"Bob\")\n"
   ]
  },
  {
   "cell_type": "markdown",
   "id": "2e813796",
   "metadata": {},
   "source": [
    "### 3. What is the purpose of the return statement in a function? Can a function have multiple returnstatements? Explain with an example."
   ]
  },
  {
   "cell_type": "markdown",
   "id": "49e87639",
   "metadata": {},
   "source": [
    "The return statement in function is used to specify the value that the function should \"return\" or output when it is called.\n",
    "one is it can Exiting the function and another one is Returning a value.\n",
    "yes function can have multiple return statement but only one is executed if we call the function\n",
    "for example"
   ]
  },
  {
   "cell_type": "code",
   "execution_count": 1,
   "id": "b506e8b0",
   "metadata": {},
   "outputs": [
    {
     "name": "stdout",
     "output_type": "stream",
     "text": [
      "Positive\n"
     ]
    }
   ],
   "source": [
    "def check_number(number):\n",
    "    if number > 0:\n",
    "        return \"Positive\"\n",
    "    elif number < 0:\n",
    "        return \"Negative\"\n",
    "    else:\n",
    "        return \"Zero\"\n",
    "\n",
    "result1 = check_number(5)\n",
    "print(result1)   \n"
   ]
  },
  {
   "cell_type": "markdown",
   "id": "2c04b6d8",
   "metadata": {},
   "source": [
    "### 4. What are lambda functions in Python? How are they different from regular functions? Provide an example where a lambda function can be useful."
   ]
  },
  {
   "cell_type": "markdown",
   "id": "f7379e6e",
   "metadata": {},
   "source": [
    "Lambda functions in Python, also known as anonymous functions, they are small, one-line functions that do not require \n",
    "a function name. They are created using the lambda keyword, "
   ]
  },
  {
   "cell_type": "markdown",
   "id": "68b0d3f5",
   "metadata": {},
   "source": [
    " *Lambda functions are written as a single line of code, while regular functions are defined using the def keyword.\n",
    "*Lambda functions do not have a name.\n",
    "*Lambda functions can only consist of a single expression."
   ]
  },
  {
   "cell_type": "markdown",
   "id": "775679cb",
   "metadata": {},
   "source": [
    "* lambda function can be useful in situations where a small, one-time function is needed, such as when working with higher-order functions like map(), filter(), or reduce()."
   ]
  },
  {
   "cell_type": "code",
   "execution_count": 3,
   "id": "cbe71b69",
   "metadata": {},
   "outputs": [
    {
     "name": "stdout",
     "output_type": "stream",
     "text": [
      "[1, 4, 9, 16, 25]\n"
     ]
    }
   ],
   "source": [
    "#for example\n",
    "numbers = [1, 2, 3, 4, 5]\n",
    "squared_numbers_lambda = list(map(lambda x: x ** 2, numbers))\n",
    "print(squared_numbers_lambda) \n"
   ]
  },
  {
   "cell_type": "code",
   "execution_count": 4,
   "id": "2dee5a5d",
   "metadata": {},
   "outputs": [],
   "source": [
    "### 5. How does the concept of \"scope\" apply to functions in Python? Explain the difference between localscope and global scope."
   ]
  },
  {
   "cell_type": "markdown",
   "id": "6a1d6cfd",
   "metadata": {},
   "source": [
    "scope in Python refers to the visibility and accessibility of variables within different parts of a program.\n",
    "It determines where a variable can be referenced or modified. In Python, scope is primarily related to functions"
   ]
  },
  {
   "cell_type": "markdown",
   "id": "07850211",
   "metadata": {},
   "source": [
    "Local Scope:\n",
    "Variables defined within a function have local scope. \n",
    "They are only accessible within the function where they are defined.\n",
    "Local variables are created when the function is called and destroyed when the function completes execution.\n",
    "Local variables cannot be accessed from outside the function.\n",
    "Each function call creates a new instance of local variables.\n",
    "different function calls can have separate and independent local variables.\n",
    "for example"
   ]
  },
  {
   "cell_type": "code",
   "execution_count": 7,
   "id": "c2ed7e97",
   "metadata": {},
   "outputs": [
    {
     "name": "stdout",
     "output_type": "stream",
     "text": [
      "10\n"
     ]
    },
    {
     "ename": "NameError",
     "evalue": "name 'x' is not defined",
     "output_type": "error",
     "traceback": [
      "\u001b[1;31m---------------------------------------------------------------------------\u001b[0m",
      "\u001b[1;31mNameError\u001b[0m                                 Traceback (most recent call last)",
      "Cell \u001b[1;32mIn[7], line 7\u001b[0m\n\u001b[0;32m      3\u001b[0m     \u001b[38;5;28mprint\u001b[39m(x)\n\u001b[0;32m      5\u001b[0m my_function()  \n\u001b[1;32m----> 7\u001b[0m \u001b[38;5;28mprint\u001b[39m(\u001b[43mx\u001b[49m)\n",
      "\u001b[1;31mNameError\u001b[0m: name 'x' is not defined"
     ]
    }
   ],
   "source": [
    "def my_function():\n",
    "    x = 10  # Local variable\n",
    "    print(x)\n",
    "\n",
    "my_function()  \n",
    "  \n",
    "print(x)"
   ]
  },
  {
   "cell_type": "markdown",
   "id": "b1a5c4c7",
   "metadata": {},
   "source": [
    "the variable x is defined within the my_function() function. It has local scope and can only be accessed within the function. \n",
    "Attempting to print x outside the function results in a NameError because the variable is not defined in the global scope."
   ]
  },
  {
   "cell_type": "markdown",
   "id": "07f82a39",
   "metadata": {},
   "source": [
    "Global Scope:\n",
    "Variables defined outside of any function, at the top level of a module or script, have global scope.\n",
    "Global variables are accessible from anywhere within the module or script.\n",
    "Global variables retain their value throughout the execution of the program, even if they are referenced from within a function.\n",
    "Global variables can be accessed and modified by functions defined within the module or script."
   ]
  },
  {
   "cell_type": "code",
   "execution_count": 8,
   "id": "cb4653c4",
   "metadata": {},
   "outputs": [
    {
     "name": "stdout",
     "output_type": "stream",
     "text": [
      "10\n",
      "10\n"
     ]
    }
   ],
   "source": [
    "x = 10  # Global variable\n",
    "\n",
    "def my_function():\n",
    "    print(x)\n",
    "\n",
    "my_function() \n",
    "print(x)  \n"
   ]
  },
  {
   "cell_type": "markdown",
   "id": "8ae6c65d",
   "metadata": {},
   "source": [
    "### 6. How can you use the \"return\" statement in a Python function to return multiple values?"
   ]
  },
  {
   "cell_type": "markdown",
   "id": "9ddef137",
   "metadata": {},
   "source": [
    "the return statement in a function can be used to return multiple values by separating them with commas. "
   ]
  },
  {
   "cell_type": "code",
   "execution_count": 10,
   "id": "9d8d679a",
   "metadata": {},
   "outputs": [
    {
     "name": "stdout",
     "output_type": "stream",
     "text": [
      "(1, 2, 3)\n",
      "1\n",
      "2\n",
      "3\n"
     ]
    }
   ],
   "source": [
    "def get_values():\n",
    "    a = 1\n",
    "    b = 2\n",
    "    c = 3\n",
    "    return a, b, c\n",
    "\n",
    "result = get_values()\n",
    "print(result)  \n",
    "print(result[0])  \n",
    "print(result[1]) \n",
    "print(result[2]) \n"
   ]
  },
  {
   "cell_type": "markdown",
   "id": "86cebc8d",
   "metadata": {},
   "source": [
    "### 7. What is the difference between the \"pass by value\" and \"pass by reference\" concepts when itcomes to function arguments in Python?"
   ]
  },
  {
   "cell_type": "markdown",
   "id": "9bf09d20",
   "metadata": {},
   "source": [
    "the concepts of \"pass by value\" and \"pass by reference\" relate to how arguments are passed to functions.\n",
    "However, Python uses a different approach altogether.\n",
    "Python utilizes a mechanism called \"pass by object reference\" or \"pass by assignment.\""
   ]
  },
  {
   "cell_type": "markdown",
   "id": "4a4c4979",
   "metadata": {},
   "source": [
    "Pass by Value:\n",
    "*Immutable objects, such as numbers (integers, floats), strings, and tuples, are passed by value in Python.\n",
    "*When an immutable object is passed as an argument to a function, a copy of its value is made, and this copy is assigned \n",
    "        to a new local variable within the function.\n",
    "*Modifying the local variable inside the function does not affect the original object or variable passed as an argument."
   ]
  },
  {
   "cell_type": "markdown",
   "id": "e3e0ce7a",
   "metadata": {},
   "source": [
    "Pass by Assignment:\n",
    "Mutable objects, such as lists, dictionaries, and user-defined objects, are passed by assignment in Python.\n",
    "When a mutable object is passed as an argument to a function, the reference to the original object is passed, allowing modifications to be made to the object inside the function.\n",
    "Changes made to the mutable object inside the function affect the original object."
   ]
  },
  {
   "cell_type": "markdown",
   "id": "29143a45",
   "metadata": {},
   "source": [
    "### 8. Create a function that can intake integer or decimal value and do following operations:\n",
    "a. Logarithmic function (log x)\n",
    "b. Exponential function (exp(x))\n",
    "c. Power function with base 2 (2\n",
    "x\n",
    ")\n",
    "\n",
    "d. Square root"
   ]
  },
  {
   "cell_type": "code",
   "execution_count": 12,
   "id": "3460ee79",
   "metadata": {},
   "outputs": [
    {
     "name": "stdout",
     "output_type": "stream",
     "text": [
      "Logarithmic result: 1.3862943611198906\n",
      "Exponential result: 54.598150033144236\n",
      "Power result: 16.0\n",
      "Square root result: 2.0\n"
     ]
    }
   ],
   "source": [
    "import math\n",
    "\n",
    "def perform_operations(x):\n",
    "    logarithmic = math.log(x)\n",
    "    exponential = math.exp(x)\n",
    "    power = math.pow(2, x)\n",
    "    square_root = math.sqrt(x)\n",
    "    \n",
    "    return logarithmic, exponential, power, square_root\n",
    "\n",
    "\n",
    "result = perform_operations(4)\n",
    "print(\"Logarithmic result:\", result[0])\n",
    "print(\"Exponential result:\", result[1])\n",
    "print(\"Power result:\", result[2])\n",
    "print(\"Square root result:\", result[3])\n"
   ]
  },
  {
   "cell_type": "markdown",
   "id": "3e52f122",
   "metadata": {},
   "source": [
    "### 9. Create a function that takes a full name as an argument and returns first name and last name."
   ]
  },
  {
   "cell_type": "code",
   "execution_count": 1,
   "id": "210c9710",
   "metadata": {},
   "outputs": [
    {
     "name": "stdout",
     "output_type": "stream",
     "text": [
      "First Name: John\n",
      "Last Name: Doe\n"
     ]
    }
   ],
   "source": [
    "def split_name(full_name):\n",
    "    names = full_name.split()\n",
    "    first_name = names[0]\n",
    "    last_name = names[-1]\n",
    "    return first_name, last_name\n",
    "full_name = \"John Doe\"\n",
    "first, last = split_name(full_name)\n",
    "print(\"First Name:\", first)\n",
    "print(\"Last Name:\", last)\n"
   ]
  },
  {
   "cell_type": "code",
   "execution_count": null,
   "id": "a5fbbd7c",
   "metadata": {},
   "outputs": [],
   "source": []
  }
 ],
 "metadata": {
  "kernelspec": {
   "display_name": "Python 3 (ipykernel)",
   "language": "python",
   "name": "python3"
  },
  "language_info": {
   "codemirror_mode": {
    "name": "ipython",
    "version": 3
   },
   "file_extension": ".py",
   "mimetype": "text/x-python",
   "name": "python",
   "nbconvert_exporter": "python",
   "pygments_lexer": "ipython3",
   "version": "3.10.9"
  }
 },
 "nbformat": 4,
 "nbformat_minor": 5
}
