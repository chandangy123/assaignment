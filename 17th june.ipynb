{
 "cells": [
  {
   "cell_type": "markdown",
   "id": "eeb4a731",
   "metadata": {},
   "source": [
    "### 1. What is the role of try and exception block?"
   ]
  },
  {
   "cell_type": "markdown",
   "id": "24c09a24",
   "metadata": {},
   "source": [
    "try and exception block is used for error handling or exception handling. \n",
    "It allows you to write code that can gracefully handle and recover from errors or exceptional conditions that may occur during \n",
    "program execution.fro example..\n"
   ]
  },
  {
   "cell_type": "code",
   "execution_count": 2,
   "id": "3fd1d6c5",
   "metadata": {},
   "outputs": [
    {
     "name": "stdout",
     "output_type": "stream",
     "text": [
      "Enter a number: 5\n",
      "The reciprocal is: 0.2\n"
     ]
    }
   ],
   "source": [
    "try:\n",
    "    number = int(input(\"Enter a number: \"))\n",
    "    reciprocal = 1 / number\n",
    "    print(\"The reciprocal is:\", reciprocal)\n",
    "\n",
    "except ValueError:\n",
    "    print(\"Error: Please enter a valid number.\")\n",
    "\n",
    "except ZeroDivisionError:\n",
    "    print(\"Error: Cannot calculate reciprocal of zero.\")"
   ]
  },
  {
   "cell_type": "markdown",
   "id": "6873b835",
   "metadata": {},
   "source": [
    "### 2. What is the syntax for a basic try-except block?"
   ]
  },
  {
   "cell_type": "markdown",
   "id": "11c0e270",
   "metadata": {},
   "source": [
    "try: \n",
    "    #Code that may raise an exception\n",
    "except ExceptionType:\n",
    "    #Code to handle the exception\n"
   ]
  },
  {
   "cell_type": "markdown",
   "id": "5c82021d",
   "metadata": {},
   "source": [
    "example i have mentioned above"
   ]
  },
  {
   "cell_type": "markdown",
   "id": "c8b4c2c5",
   "metadata": {},
   "source": [
    "### 3. What happens if an exception occurs inside a try block and there is no matching except block?"
   ]
  },
  {
   "cell_type": "markdown",
   "id": "c3bc914d",
   "metadata": {},
   "source": [
    "program will terminate abruptly, and an error message will be displayed, indicating the unhandled exception and its traceback."
   ]
  },
  {
   "cell_type": "code",
   "execution_count": 10,
   "id": "ba9804af",
   "metadata": {},
   "outputs": [
    {
     "ename": "SyntaxError",
     "evalue": "expected 'except' or 'finally' block (143790214.py, line 6)",
     "output_type": "error",
     "traceback": [
      "\u001b[1;36m  Cell \u001b[1;32mIn[10], line 6\u001b[1;36m\u001b[0m\n\u001b[1;33m    print(\"Program continues after the try-except block.\")\u001b[0m\n\u001b[1;37m    ^\u001b[0m\n\u001b[1;31mSyntaxError\u001b[0m\u001b[1;31m:\u001b[0m expected 'except' or 'finally' block\n"
     ]
    }
   ],
   "source": [
    "try:\n",
    "    num1 = int(input(\"Enter a number: \"))\n",
    "    num2 = int(input(\"Enter another number: \"))\n",
    "    result = num1 / num2\n",
    "    print(\"Result:\", result)\n",
    "print(\"Program continues after the try-except block.\")\n"
   ]
  },
  {
   "cell_type": "markdown",
   "id": "59ee240f",
   "metadata": {},
   "source": [
    "### 4. What is the difference between using a bare except block and specifying a specific exception type?"
   ]
  },
  {
   "cell_type": "markdown",
   "id": "058cc792",
   "metadata": {},
   "source": [
    "A bare except block is written as except: without specifying any particular exception type. \n",
    "It acts as a catch-all for any exception that may occur within the try block. When an exception occurs, \n",
    "if there is a bare except block,\n",
    "it will catch the exception regardless of its type. "
   ]
  },
  {
   "cell_type": "markdown",
   "id": "f1e166f4",
   "metadata": {},
   "source": [
    "try:\n",
    "    # Code that may raise exceptions\n",
    "except:\n",
    "    # Code to handle any exception\n"
   ]
  },
  {
   "cell_type": "markdown",
   "id": "76d8e6ef",
   "metadata": {},
   "source": [
    "Specifying a specific exception type allows you to catch and handle only the specified type of exception. \n",
    "By using specific except blocks for different types of exceptions, \n",
    "you can provide different error handling logic based on the nature of the exception."
   ]
  },
  {
   "cell_type": "markdown",
   "id": "b2d6db6b",
   "metadata": {},
   "source": [
    "try:\n",
    "    # Code that may raise exceptions\n",
    "except ValueError:\n",
    "    # Code to handle ValueError exception\n",
    "except ZeroDivisionError:\n",
    "    # Code to handle ZeroDivisionError exception\n"
   ]
  },
  {
   "cell_type": "markdown",
   "id": "4976349e",
   "metadata": {},
   "source": [
    "### 5. Can you have nested try-except blocks in Python? If yes, then give an example."
   ]
  },
  {
   "cell_type": "markdown",
   "id": "c7a5ee95",
   "metadata": {},
   "source": [
    "yes"
   ]
  },
  {
   "cell_type": "code",
   "execution_count": 13,
   "id": "297cf58d",
   "metadata": {},
   "outputs": [
    {
     "name": "stdout",
     "output_type": "stream",
     "text": [
      "Enter the numerator: 5\n",
      "Enter the denominator: 0\n",
      "Error: Division by zero is not allowed.\n",
      "Program execution continues...\n"
     ]
    }
   ],
   "source": [
    "try:\n",
    "    # Outer try block\n",
    "    numerator = int(input(\"Enter the numerator: \"))\n",
    "    denominator = int(input(\"Enter the denominator: \"))\n",
    "\n",
    "    try:\n",
    "        # Inner try block\n",
    "        result = numerator / denominator\n",
    "        print(\"Result:\", result)\n",
    "\n",
    "    except ZeroDivisionError:\n",
    "        print(\"Error: Division by zero is not allowed.\")\n",
    "\n",
    "except ValueError:\n",
    "    print(\"Error: Please enter valid integer values.\")\n",
    "\n",
    "print(\"Program execution continues...\")\n"
   ]
  },
  {
   "cell_type": "markdown",
   "id": "2c16ef69",
   "metadata": {},
   "source": [
    "### 6. Can we use multiple exception blocks, if yes then give an example."
   ]
  },
  {
   "cell_type": "markdown",
   "id": "f5d048ee",
   "metadata": {},
   "source": [
    "yes"
   ]
  },
  {
   "cell_type": "markdown",
   "id": "b0b1974e",
   "metadata": {},
   "source": [
    "try:\n",
    "    dividend = int(input(\"Enter the dividend: \"))\n",
    "    divisor = int(input(\"Enter the divisor: \"))\n",
    "\n",
    "    result = dividend / divisor\n",
    "    print(\"Result:\", result)\n",
    "\n",
    "except ValueError:\n",
    "    print(\"Error: Please enter valid integer values.\")\n",
    "\n",
    "except ZeroDivisionError:\n",
    "    print(\"Error: Division by zero is not allowed.\")\n",
    "\n",
    "except Exception as e:\n",
    "    print(\"Error:\", e)\n"
   ]
  },
  {
   "cell_type": "markdown",
   "id": "8919ea5c",
   "metadata": {},
   "source": [
    "### 7. Write the reason due to which following errors are raised:\n",
    "a. EOFError\n",
    "b. FloatingPointError\n",
    "c. IndexError\n",
    "d. MemoryError\n",
    "e. OverflowError\n",
    "f. TabError\n",
    "g. ValueError"
   ]
  },
  {
   "cell_type": "markdown",
   "id": "23482bb2",
   "metadata": {},
   "source": [
    "a. EOFError is raised when an input function (e.g., input()) reaches the end-of-file condition unexpectedly, usually when trying to read more input from the user than available.\n",
    "\n",
    "b. FloatingPointError is raised when an arithmetic operation on floating-point numbers fails, such as division by zero or an invalid mathematical operation.\n",
    "\n",
    "c. IndexError is raised when attempting to access an index that is outside the range of valid indices for a sequence or container, such as a list or string.\n",
    "\n",
    "d. MemoryError is raised when the program exceeds the available memory resources, indicating that it cannot allocate any more memory for an operation or data.\n",
    "\n",
    "e. OverflowError is raised when a mathematical operation exceeds the maximum representable value for a numeric type, typically occurring with large numbers.\n",
    "\n",
    "f. TabError is raised when the indentation in Python code is inconsistent, often caused by mixing tabs and spaces or using an incorrect number of indentation spaces.\n",
    "\n",
    "g. ValueError is raised when an operation or function receives an argument of the correct type but with an inappropriate value, such as trying to convert a string that cannot be parsed as an integer."
   ]
  },
  {
   "cell_type": "markdown",
   "id": "afb6f84c",
   "metadata": {},
   "source": [
    "### 8. Write code for the following given scenario and add try-exception block to it.\n",
    "a. Program to divide two numbers\n",
    "b. Program to convert a string to an integer\n",
    "c. Program to access an element in a list\n",
    "d. Program to handle a specific exception\n",
    "e. Program to handle any exception"
   ]
  },
  {
   "cell_type": "markdown",
   "id": "10f3590b",
   "metadata": {},
   "source": [
    "a. Program to divide two numbers\n",
    "\n",
    "try:\n",
    "    numerator = int(input(\"Enter the numerator: \"))\n",
    "    denominator = int(input(\"Enter the denominator: \"))\n",
    "\n",
    "    result = numerator / denominator\n",
    "    print(\"Result:\", result)\n",
    "\n",
    "except ZeroDivisionError:\n",
    "    print(\"Error: Division by zero is not allowed.\")\n"
   ]
  },
  {
   "cell_type": "markdown",
   "id": "dcc2aead",
   "metadata": {},
   "source": [
    "b. Program to convert a string to an integer\n",
    "\n",
    "try:\n",
    "    number_str = input(\"Enter a number: \")\n",
    "    number = int(number_str)\n",
    "    print(\"Converted number:\", number)\n",
    "\n",
    "except ValueError:\n",
    "    print(\"Error: Invalid input. Please enter a valid integer.\")\n"
   ]
  },
  {
   "cell_type": "markdown",
   "id": "6a59c523",
   "metadata": {},
   "source": [
    "c. Program to access an element in a list\n",
    "\n",
    "try:\n",
    "    my_list =[1,2,3,4,5]\n",
    "    index = int(input(\"Enter the index: \"))\n",
    "\n",
    "    value = my_list[index]\n",
    "    print(\"Value at index\", index, \":\", value)\n",
    "\n",
    "except IndexError:\n",
    "    print(\"Error: Index is out of range. Please enter a valid index.\")\n"
   ]
  },
  {
   "cell_type": "markdown",
   "id": "5e6014b2",
   "metadata": {},
   "source": [
    "d. Program to handle a specific exception\n",
    "\n",
    "try:\n",
    "    x = 5 / 0  # Division by zero\n",
    "    print(x)\n",
    "\n",
    "except ZeroDivisionError:\n",
    "    print(\"Error: Division by zero occurred.\")\n"
   ]
  },
  {
   "cell_type": "markdown",
   "id": "393338e5",
   "metadata": {},
   "source": [
    "e. Program to handle any exception\n",
    "\n",
    "try:\n",
    "    # Code that may raise exceptions\n",
    "\n",
    "except Exception as e:\n",
    "    print(\"An exception occurred:\", e)"
   ]
  }
 ],
 "metadata": {
  "kernelspec": {
   "display_name": "Python 3 (ipykernel)",
   "language": "python",
   "name": "python3"
  },
  "language_info": {
   "codemirror_mode": {
    "name": "ipython",
    "version": 3
   },
   "file_extension": ".py",
   "mimetype": "text/x-python",
   "name": "python",
   "nbconvert_exporter": "python",
   "pygments_lexer": "ipython3",
   "version": "3.10.9"
  }
 },
 "nbformat": 4,
 "nbformat_minor": 5
}
