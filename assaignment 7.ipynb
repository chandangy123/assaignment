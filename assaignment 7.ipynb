{
 "cells": [
  {
   "cell_type": "markdown",
   "id": "47e0d1dc",
   "metadata": {},
   "source": [
    "### Q.1. Create two int type variables, apply addition, subtraction, division and multiplications\n",
    "and store the results in variables. Then print the data in the following format by calling the\n",
    "variables:\n",
    "First variable is __ & second variable is __.\n",
    "Addition: __ + __ = __\n",
    "Subtraction: __ - __ = __\n",
    "Multiplication: __ * __ = __\n",
    "Division: __ / __ = __"
   ]
  },
  {
   "cell_type": "code",
   "execution_count": 1,
   "id": "21c3a059",
   "metadata": {},
   "outputs": [
    {
     "name": "stdout",
     "output_type": "stream",
     "text": [
      "First variable is 10 & second variable is 5.\n",
      "Addition: 10 + 5 = 15\n",
      "Subtraction: 10 - 5 = 5\n",
      "Multiplication: 10 * 5 = 50\n",
      "Division: 10 / 5 = 2.0\n"
     ]
    }
   ],
   "source": [
    "first_variable = 10\n",
    "second_variable = 5\n",
    "\n",
    "addition = first_variable + second_variable\n",
    "subtraction = first_variable - second_variable\n",
    "multiplication = first_variable * second_variable\n",
    "division = first_variable / second_variable\n",
    "\n",
    "print(f\"First variable is {first_variable} & second variable is {second_variable}.\")\n",
    "print(f\"Addition: {first_variable} + {second_variable} = {addition}\")\n",
    "print(f\"Subtraction: {first_variable} - {second_variable} = {subtraction}\")\n",
    "print(f\"Multiplication: {first_variable} * {second_variable} = {multiplication}\")\n",
    "print(f\"Division: {first_variable} / {second_variable} = {division}\")\n"
   ]
  },
  {
   "cell_type": "markdown",
   "id": "daa76328",
   "metadata": {},
   "source": [
    "### Q.2. What is the difference between the following operators:\n",
    "(i) ‘/’ & ‘//’\n",
    "(ii) ‘**’ & ‘^’"
   ]
  },
  {
   "cell_type": "markdown",
   "id": "eba45bd3",
   "metadata": {},
   "source": [
    "'/' operator: This is the division operator in Python, It performs floating-point division."
   ]
  },
  {
   "cell_type": "code",
   "execution_count": 2,
   "id": "ca203045",
   "metadata": {},
   "outputs": [
    {
     "name": "stdout",
     "output_type": "stream",
     "text": [
      "3.3333333333333335\n"
     ]
    }
   ],
   "source": [
    "result = 10 / 3\n",
    "print(result)"
   ]
  },
  {
   "cell_type": "markdown",
   "id": "66cebf5d",
   "metadata": {},
   "source": [
    "'//' operator:  It performs integer division"
   ]
  },
  {
   "cell_type": "code",
   "execution_count": 3,
   "id": "666e848a",
   "metadata": {},
   "outputs": [
    {
     "name": "stdout",
     "output_type": "stream",
     "text": [
      "3\n"
     ]
    }
   ],
   "source": [
    "result = 10 // 3\n",
    "print(result)"
   ]
  },
  {
   "cell_type": "markdown",
   "id": "6617c4c1",
   "metadata": {},
   "source": [
    "'**' operator: This is the exponentiation operator in Python. It raises the left operand to the power of the right operand. "
   ]
  },
  {
   "cell_type": "code",
   "execution_count": 4,
   "id": "3f6ec5d8",
   "metadata": {},
   "outputs": [
    {
     "name": "stdout",
     "output_type": "stream",
     "text": [
      "8\n"
     ]
    }
   ],
   "source": [
    "result = 2 ** 3\n",
    "print(result)"
   ]
  },
  {
   "cell_type": "markdown",
   "id": "e614642b",
   "metadata": {},
   "source": [
    "^' operator:bitwise XOR operator, It performs a bitwise exclusive OR operation on the binary representations of the operands."
   ]
  },
  {
   "cell_type": "code",
   "execution_count": 5,
   "id": "6dae4c33",
   "metadata": {},
   "outputs": [
    {
     "name": "stdout",
     "output_type": "stream",
     "text": [
      "1\n"
     ]
    }
   ],
   "source": [
    "result = 2 ^ 3\n",
    "print(result)"
   ]
  },
  {
   "cell_type": "markdown",
   "id": "da557624",
   "metadata": {},
   "source": [
    "### Q.3. List the logical operators."
   ]
  },
  {
   "cell_type": "markdown",
   "id": "327e0aa7",
   "metadata": {},
   "source": [
    "logical operaters are and, or, not\n"
   ]
  },
  {
   "cell_type": "code",
   "execution_count": 6,
   "id": "375eb6ea",
   "metadata": {},
   "outputs": [
    {
     "data": {
      "text/plain": [
       "4"
      ]
     },
     "execution_count": 6,
     "metadata": {},
     "output_type": "execute_result"
    }
   ],
   "source": [
    "gyc= 1 and 4\n",
    "gyc"
   ]
  },
  {
   "cell_type": "code",
   "execution_count": 9,
   "id": "822b608c",
   "metadata": {},
   "outputs": [
    {
     "data": {
      "text/plain": [
       "11"
      ]
     },
     "execution_count": 9,
     "metadata": {},
     "output_type": "execute_result"
    }
   ],
   "source": [
    "gyc=11 or 10\n",
    "gyc"
   ]
  },
  {
   "cell_type": "markdown",
   "id": "b5855b1e",
   "metadata": {},
   "source": [
    "not operator is a unary operator that returns the opposite of the operand"
   ]
  },
  {
   "cell_type": "code",
   "execution_count": 10,
   "id": "906eabf1",
   "metadata": {},
   "outputs": [],
   "source": [
    "x=True\n",
    "y=not x"
   ]
  },
  {
   "cell_type": "code",
   "execution_count": 11,
   "id": "fa8c549a",
   "metadata": {},
   "outputs": [
    {
     "data": {
      "text/plain": [
       "False"
      ]
     },
     "execution_count": 11,
     "metadata": {},
     "output_type": "execute_result"
    }
   ],
   "source": [
    "y"
   ]
  },
  {
   "cell_type": "markdown",
   "id": "3f7ea20e",
   "metadata": {},
   "source": [
    "### Q.4. Explain right shift operator and left shift operator with examples."
   ]
  },
  {
   "cell_type": "markdown",
   "id": "9227ce90",
   "metadata": {},
   "source": [
    "The right shift operator (>>) shifts the bits of a number to the right by a specified number of positions.It effectively divides an integer by a power of 2, \n",
    "discarding the least significant bits."
   ]
  },
  {
   "cell_type": "code",
   "execution_count": 13,
   "id": "a34ac7cd",
   "metadata": {},
   "outputs": [
    {
     "data": {
      "text/plain": [
       "2"
      ]
     },
     "execution_count": 13,
     "metadata": {},
     "output_type": "execute_result"
    }
   ],
   "source": [
    "10>>2"
   ]
  },
  {
   "cell_type": "code",
   "execution_count": 14,
   "id": "26a17514",
   "metadata": {},
   "outputs": [
    {
     "data": {
      "text/plain": [
       "'0b1010'"
      ]
     },
     "execution_count": 14,
     "metadata": {},
     "output_type": "execute_result"
    }
   ],
   "source": [
    "bin(10)"
   ]
  },
  {
   "cell_type": "code",
   "execution_count": 15,
   "id": "0a4272c3",
   "metadata": {},
   "outputs": [
    {
     "data": {
      "text/plain": [
       "'0b10'"
      ]
     },
     "execution_count": 15,
     "metadata": {},
     "output_type": "execute_result"
    }
   ],
   "source": [
    "bin(2)"
   ]
  },
  {
   "cell_type": "markdown",
   "id": "28fddb92",
   "metadata": {},
   "source": [
    "The left shift operator (<<) shifts the bits of a number to the left by a specified number of positions. It effectively multiplies an integer by a power of 2, \n",
    "adding zeros at the least significant bits."
   ]
  },
  {
   "cell_type": "code",
   "execution_count": 16,
   "id": "789003ac",
   "metadata": {},
   "outputs": [
    {
     "data": {
      "text/plain": [
       "40"
      ]
     },
     "execution_count": 16,
     "metadata": {},
     "output_type": "execute_result"
    }
   ],
   "source": [
    "10<<2"
   ]
  },
  {
   "cell_type": "markdown",
   "id": "4bb7c1de",
   "metadata": {},
   "source": [
    "### Q.5. Create a list containing int type data of length 15. Then write a code to check if 10 is present in the list or not."
   ]
  },
  {
   "cell_type": "code",
   "execution_count": 20,
   "id": "eae5083f",
   "metadata": {},
   "outputs": [
    {
     "name": "stdout",
     "output_type": "stream",
     "text": [
      "10 is present in the list.\n"
     ]
    }
   ],
   "source": [
    "lit = [2, 4, 6, 8, 10, 12, 14, 16, 18, 20, 22, 24, 26, 28, 30]\n",
    "if 10 in lit:\n",
    "    print(\"10 is present in the list.\")\n",
    "else:\n",
    "    print(\"10 is not present in the list.\")\n"
   ]
  },
  {
   "cell_type": "code",
   "execution_count": null,
   "id": "4d9f14fb",
   "metadata": {},
   "outputs": [],
   "source": []
  }
 ],
 "metadata": {
  "kernelspec": {
   "display_name": "Python 3 (ipykernel)",
   "language": "python",
   "name": "python3"
  },
  "language_info": {
   "codemirror_mode": {
    "name": "ipython",
    "version": 3
   },
   "file_extension": ".py",
   "mimetype": "text/x-python",
   "name": "python",
   "nbconvert_exporter": "python",
   "pygments_lexer": "ipython3",
   "version": "3.10.9"
  }
 },
 "nbformat": 4,
 "nbformat_minor": 5
}
