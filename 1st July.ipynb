{
 "cells": [
  {
   "cell_type": "markdown",
   "id": "481a1bab",
   "metadata": {},
   "source": [
    "### 1. What is the primary goal of Object-Oriented Programming (OOP)?"
   ]
  },
  {
   "cell_type": "markdown",
   "id": "924e6b61",
   "metadata": {},
   "source": [
    "The primary goal of Object-Oriented Programming (OOP) is to provide a programming paradigm that allows for the organization \n",
    "and structuring of code in a way that models real-world objects, their properties, and their interactions\n",
    "Specifically, OOP focuses on the following key concepts:\n",
    "Encapsulation, Inheritance, Polymorphism"
   ]
  },
  {
   "cell_type": "markdown",
   "id": "2fb0046c",
   "metadata": {},
   "source": [
    "### 2. What is an object in Python?"
   ]
  },
  {
   "cell_type": "markdown",
   "id": "b9f8ae9b",
   "metadata": {},
   "source": [
    "In Python, an object is a fundamental concept that represents a specific instance of a class.\n",
    "It is a runtime entity that combines data (attributes or properties) and behavior (methods or functions) into a single unit. \n",
    "Objects are created based on a class, which serves as a blueprint or template for defining their structure and behavior."
   ]
  },
  {
   "cell_type": "code",
   "execution_count": 2,
   "id": "547b9a37",
   "metadata": {},
   "outputs": [
    {
     "name": "stdout",
     "output_type": "stream",
     "text": [
      "Toyota\n",
      "blue\n",
      "The blue Toyota car's engine is starting.\n"
     ]
    }
   ],
   "source": [
    "class Car:\n",
    "    def __init__(self, brand, color):\n",
    "        self.brand = brand\n",
    "        self.color = color\n",
    "\n",
    "    def start_engine(self):\n",
    "        print(f\"The {self.color} {self.brand} car's engine is starting.\")\n",
    "\n",
    "# Creating an object of the Car class\n",
    "my_car = Car(\"Toyota\", \"blue\")\n",
    "\n",
    "# Accessing object attributes\n",
    "print(my_car.brand) \n",
    "print(my_car.color)  \n",
    "\n",
    "# Invoking object method\n",
    "my_car.start_engine()  # Output: The blue Toyota car's engine is starting.\n"
   ]
  },
  {
   "cell_type": "markdown",
   "id": "f5738361",
   "metadata": {},
   "source": [
    "### 3. What is a class in Python?"
   ]
  },
  {
   "cell_type": "markdown",
   "id": "36a22982",
   "metadata": {},
   "source": [
    "In Python, a class is a blueprint or template for creating objects. It is a user-defined data type that defines the structure \n",
    "and behavior of objects that will be created based on it.\n",
    "A class encapsulates attributes (data) and methods (functions) that define the properties and actions of objects."
   ]
  },
  {
   "cell_type": "code",
   "execution_count": 3,
   "id": "e83da109",
   "metadata": {},
   "outputs": [
    {
     "name": "stdout",
     "output_type": "stream",
     "text": [
      "Alice\n",
      "30\n",
      "Hello, my name is Alice and I'm 25 years old.\n",
      "Hello, my name is Bob and I'm 30 years old.\n"
     ]
    }
   ],
   "source": [
    "class Person:\n",
    "    def __init__(self, name, age):\n",
    "        self.name = name\n",
    "        self.age = age\n",
    "\n",
    "    def greet(self):\n",
    "        print(f\"Hello, my name is {self.name} and I'm {self.age} years old.\")\n",
    "\n",
    "# Creating objects of the Person class\n",
    "person1 = Person(\"Alice\", 25)\n",
    "person2 = Person(\"Bob\", 30)\n",
    "\n",
    "# Accessing object attributes\n",
    "print(person1.name)  \n",
    "print(person2.age) \n",
    "\n",
    "person1.greet() \n",
    "person2.greet()  \n"
   ]
  },
  {
   "cell_type": "markdown",
   "id": "9a86b4cd",
   "metadata": {},
   "source": [
    "### 4. What are attributes and methods in a class?"
   ]
  },
  {
   "cell_type": "markdown",
   "id": "45a63226",
   "metadata": {},
   "source": [
    "Attributes represent the data or properties associated with an object. They define the state or characteristics of the object. \n",
    "Each object can have its own set of attribute values.\n",
    "Attributes are defined within the class and are accessed using the dot notation on object instances.\n",
    "Examples of attributes can include variables like name, age and color."
   ]
  },
  {
   "cell_type": "markdown",
   "id": "b33b1b25",
   "metadata": {},
   "source": [
    "Methods are functions defined within a class that define the behavior or actions that objects of the class can perform.\n",
    "Methods operate on the object's attributes and can modify their values or perform specific tasks.\n",
    "Like functions, methods can take parameters and return values. "
   ]
  },
  {
   "cell_type": "code",
   "execution_count": 4,
   "id": "106b77e6",
   "metadata": {},
   "outputs": [
    {
     "name": "stdout",
     "output_type": "stream",
     "text": [
      "Alice\n",
      "25\n",
      "Hello, my name is Alice and I'm 25 years old.\n"
     ]
    }
   ],
   "source": [
    "class Person:\n",
    "    def __init__(self, name, age):\n",
    "        self.name = name\n",
    "        self.age = age\n",
    "\n",
    "    def greet(self):\n",
    "        print(f\"Hello, my name is {self.name} and I'm {self.age} years old.\")\n",
    "\n",
    "# Creating an object of the Person class\n",
    "person = Person(\"Alice\", 25)\n",
    "\n",
    "# Accessing attributes\n",
    "print(person.name)  \n",
    "print(person.age)   \n",
    "\n",
    "#  Accessing methods\n",
    "person.greet() \n"
   ]
  },
  {
   "cell_type": "markdown",
   "id": "2f226323",
   "metadata": {},
   "source": [
    "### 5. What is the difference between class variables and instance variables in Python?"
   ]
  },
  {
   "cell_type": "markdown",
   "id": "381e3441",
   "metadata": {},
   "source": [
    "Class Variables:\n",
    "Class variables are defined within the class but outside any method. They are shared among all instances (objects) of the class."
   ]
  },
  {
   "cell_type": "markdown",
   "id": "5d406dab",
   "metadata": {},
   "source": [
    "Instance Variables:\n",
    "Instance variables are specific to each instance (object) of the class. They are defined within the class methods,\n",
    "     typically within the constructor (__init__) method.\n",
    "Instance variables represent unique data or states associated with each object of the class."
   ]
  },
  {
   "cell_type": "code",
   "execution_count": 5,
   "id": "fe1fa74f",
   "metadata": {},
   "outputs": [
    {
     "name": "stdout",
     "output_type": "stream",
     "text": [
      "4\n",
      "Toyota\n",
      "Honda\n",
      "4\n",
      "4\n"
     ]
    }
   ],
   "source": [
    "class Car:\n",
    "    # Class variable\n",
    "    wheels = 4\n",
    "\n",
    "    def __init__(self, brand):\n",
    "        # Instance variable\n",
    "        self.brand = brand\n",
    "\n",
    "# Accessing class variable\n",
    "print(Car.wheels)  # Output: 4\n",
    "\n",
    "# Creating objects\n",
    "car1 = Car(\"Toyota\")\n",
    "car2 = Car(\"Honda\")\n",
    "\n",
    "# Accessing instance variable\n",
    "print(car1.brand)  \n",
    "print(car2.brand) \n",
    "\n",
    "# Accessing class variable through an instance\n",
    "print(car1.wheels) \n",
    "print(car2.wheels)  \n"
   ]
  },
  {
   "cell_type": "markdown",
   "id": "085f6c76",
   "metadata": {},
   "source": [
    "### 6. What is the purpose of the self parameter in Python class methods?"
   ]
  },
  {
   "cell_type": "markdown",
   "id": "3de41831",
   "metadata": {},
   "source": [
    "self parameter is a conventionally used parameter that refers to the instance (object) of the class itself. It is a way to refer to the object being operated upon within the class methods. The self parameter is the first parameter of most instance methods in Python."
   ]
  },
  {
   "cell_type": "markdown",
   "id": "9c466b0f",
   "metadata": {},
   "source": [
    "class Person:\n",
    "    def __init__(self, name):\n",
    "        self.name = name\n",
    "\n",
    "    def greet(self):\n",
    "        print(f\"Hello, my name is {self.name}.\")\n",
    "\n",
    "#Creating an object of the Person class\n",
    "person = Person(\"Alice\")\n",
    "\n",
    "#Invoking the greet() method\n",
    "person.greet() \n"
   ]
  },
  {
   "cell_type": "markdown",
   "id": "b1124788",
   "metadata": {},
   "source": [
    "### 7. For a library management system, you have to design the \"Book\" class with OOP\n",
    "principles in mind. The “Book” class will have following attributes:\n",
    "a. title: Represents the title of the book.\n",
    "b. author: Represents the author(s) of the book.\n",
    "c. isbn: Represents the ISBN (International Standard Book Number) of the book.\n",
    "d. publication_year: Represents the year of publication of the book.\n",
    "e. available_copies: Represents the number of copies available for checkout.\n",
    "The class will also include the following methods:\n",
    "a. check_out(self): Decrements the available copies by one if there are copies\n",
    "available for checkout.\n",
    "b. return_book(self): Increments the available copies by one when a book is\n",
    "returned.\n",
    "c. display_book_info(self): Displays the information about the book, including its\n",
    "attributes and the number of available copies."
   ]
  },
  {
   "cell_type": "code",
   "execution_count": 2,
   "id": "2de1f32d",
   "metadata": {},
   "outputs": [
    {
     "name": "stdout",
     "output_type": "stream",
     "text": [
      "Book Information:\n",
      "Title: The Great Gatsby\n",
      "Author: F. Scott Fitzgerald\n",
      "ISBN: 9780743273565\n",
      "Publication Year: 1925\n",
      "Available Copies: 3\n",
      "The book 'The Great Gatsby' has been checked out.\n",
      "Book Information:\n",
      "Title: The Great Gatsby\n",
      "Author: F. Scott Fitzgerald\n",
      "ISBN: 9780743273565\n",
      "Publication Year: 1925\n",
      "Available Copies: 2\n",
      "The book 'The Great Gatsby' has been returned.\n",
      "Book Information:\n",
      "Title: The Great Gatsby\n",
      "Author: F. Scott Fitzgerald\n",
      "ISBN: 9780743273565\n",
      "Publication Year: 1925\n",
      "Available Copies: 3\n"
     ]
    }
   ],
   "source": [
    "class Book:\n",
    "    def __init__(self, title, author, isbn, publication_year, available_copies):\n",
    "        self.title = title\n",
    "        self.author = author\n",
    "        self.isbn = isbn\n",
    "        self.publication_year = publication_year\n",
    "        self.available_copies = available_copies\n",
    "\n",
    "    def check_out(self):\n",
    "        if self.available_copies > 0:\n",
    "            self.available_copies -= 1\n",
    "            print(f\"The book '{self.title}' has been checked out.\")\n",
    "        else:\n",
    "            print(f\"Sorry, '{self.title}' is currently unavailable for checkout.\")\n",
    "\n",
    "    def return_book(self):\n",
    "        self.available_copies += 1\n",
    "        print(f\"The book '{self.title}' has been returned.\")\n",
    "\n",
    "    def display_book_info(self):\n",
    "        print(\"Book Information:\")\n",
    "        print(f\"Title: {self.title}\")\n",
    "        print(f\"Author: {self.author}\")\n",
    "        print(f\"ISBN: {self.isbn}\")\n",
    "        print(f\"Publication Year: {self.publication_year}\")\n",
    "        print(f\"Available Copies: {self.available_copies}\")\n",
    "\n",
    "\n",
    "# Creating an object of the Book class\n",
    "book = Book(\"The Great Gatsby\", \"F. Scott Fitzgerald\", \"9780743273565\", 1925, 3)\n",
    "\n",
    "# Displaying book information\n",
    "book.display_book_info()\n",
    "\n",
    "# Checking out the book\n",
    "book.check_out()\n",
    "\n",
    "# Displaying updated book information\n",
    "book.display_book_info()\n",
    "\n",
    "# Returning the book\n",
    "book.return_book()\n",
    "\n",
    "# Displaying updated book information\n",
    "book.display_book_info()\n"
   ]
  },
  {
   "cell_type": "markdown",
   "id": "48650708",
   "metadata": {},
   "source": [
    "### 8. For a ticket booking system, you have to design the \"Ticket\" class with OOP\n",
    "principles in mind. The “Ticket” class should have the following attributes:\n",
    "a. ticket_id: Represents the unique identifier for the ticket.\n",
    "b. event_name: Represents the name of the event.\n",
    "c. event_date: Represents the date of the event.\n",
    "d. venue: Represents the venue of the event.\n",
    "e. seat_number: Represents the seat number associated with the ticket.\n",
    "f. price: Represents the price of the ticket.\n",
    "g. is_reserved: Represents the reservation status of the ticket.\n",
    "The class also includes the following methods:\n",
    "a. reserve_ticket(self): Marks the ticket as reserved if it is not already reserved.\n",
    "b. cancel_reservation(self): Cancels the reservation of the ticket if it is already\n",
    "reserved.\n",
    "c. display_ticket_info(self): Displays the information about the ticket, including its\n",
    "attributes and reservation status."
   ]
  },
  {
   "cell_type": "code",
   "execution_count": 4,
   "id": "8bb2d190",
   "metadata": {},
   "outputs": [
    {
     "name": "stdout",
     "output_type": "stream",
     "text": [
      "Ticket Information:\n",
      "Ticket ID: T123\n",
      "Event Name: Concert\n",
      "Event Date: 2023-07-15\n",
      "Venue: ABC Arena\n",
      "Seat Number: A1\n",
      "Price: 50.0\n",
      "Reservation Status: Not Reserved\n",
      "Ticket with ID T123 has been reserved.\n",
      "Ticket Information:\n",
      "Ticket ID: T123\n",
      "Event Name: Concert\n",
      "Event Date: 2023-07-15\n",
      "Venue: ABC Arena\n",
      "Seat Number: A1\n",
      "Price: 50.0\n",
      "Reservation Status: Reserved\n",
      "Ticket with ID T123 is already reserved.\n",
      "Reservation for ticket with ID T123 has been canceled.\n"
     ]
    }
   ],
   "source": [
    "class Ticket:\n",
    "    def __init__(self, ticket_id, event_name, event_date, venue, seat_number, price):\n",
    "        self.ticket_id = ticket_id\n",
    "        self.event_name = event_name\n",
    "        self.event_date = event_date\n",
    "        self.venue = venue\n",
    "        self.seat_number = seat_number\n",
    "        self.price = price\n",
    "        self.is_reserved = False\n",
    "\n",
    "    def reserve_ticket(self):\n",
    "        if not self.is_reserved:\n",
    "            self.is_reserved = True\n",
    "            print(f\"Ticket with ID {self.ticket_id} has been reserved.\")\n",
    "        else:\n",
    "            print(f\"Ticket with ID {self.ticket_id} is already reserved.\")\n",
    "\n",
    "    def cancel_reservation(self):\n",
    "        if self.is_reserved:\n",
    "            self.is_reserved = False\n",
    "            print(f\"Reservation for ticket with ID {self.ticket_id} has been canceled.\")\n",
    "        else:\n",
    "            print(f\"Ticket with ID {self.ticket_id} is not currently reserved.\")\n",
    "\n",
    "    def display_ticket_info(self):\n",
    "        print(\"Ticket Information:\")\n",
    "        print(f\"Ticket ID: {self.ticket_id}\")\n",
    "        print(f\"Event Name: {self.event_name}\")\n",
    "        print(f\"Event Date: {self.event_date}\")\n",
    "        print(f\"Venue: {self.venue}\")\n",
    "        print(f\"Seat Number: {self.seat_number}\")\n",
    "        print(f\"Price: {self.price}\")\n",
    "        print(f\"Reservation Status: {'Reserved' if self.is_reserved else 'Not Reserved'}\")\n",
    "\n",
    "\n",
    "# Creating an object of the Ticket class\n",
    "ticket = Ticket(\"T123\", \"Concert\", \"2023-07-15\", \"ABC Arena\", \"A1\", 50.0)\n",
    "\n",
    "# Displaying ticket information\n",
    "ticket.display_ticket_info()\n",
    "\n",
    "# Reserving the ticket\n",
    "ticket.reserve_ticket()\n",
    "\n",
    "# Displaying updated ticket information\n",
    "ticket.display_ticket_info()\n",
    "\n",
    "# Trying to reserve the ticket again\n",
    "ticket.reserve_ticket()\n",
    "\n",
    "# Cancelling the reservation\n",
    "ticket.cancel_reservation()"
   ]
  },
  {
   "cell_type": "markdown",
   "id": "ff235d48",
   "metadata": {},
   "source": [
    "### 9. You are creating a shopping cart for an e-commerce website. Using OOP to model\n",
    "the \"ShoppingCart\" functionality the class should contain following attributes and\n",
    "methods:\n",
    "a. items: Represents the list of items in the shopping cart.\n",
    "The class also includes the following methods:\n",
    "\n",
    "a. add_item(self, item): Adds an item to the shopping cart by appending it to the\n",
    "list of items.\n",
    "b. remove_item(self, item): Removes an item from the shopping cart if it exists in\n",
    "the list.\n",
    "c. view_cart(self): Displays the items currently present in the shopping cart.\n",
    "d. clear_cart(self): Clears all items from the shopping cart by reassigning an\n",
    "empty list to the items attribute."
   ]
  },
  {
   "cell_type": "code",
   "execution_count": 5,
   "id": "a714d2ea",
   "metadata": {},
   "outputs": [
    {
     "name": "stdout",
     "output_type": "stream",
     "text": [
      "Item 'Laptop' added to the shopping cart.\n",
      "Item 'Shirt' added to the shopping cart.\n",
      "Item 'Book' added to the shopping cart.\n",
      "Items in the shopping cart:\n",
      "Laptop\n",
      "Shirt\n",
      "Book\n",
      "Item 'Shirt' removed from the shopping cart.\n",
      "Items in the shopping cart:\n",
      "Laptop\n",
      "Book\n",
      "The shopping cart has been cleared.\n",
      "The shopping cart is empty.\n"
     ]
    }
   ],
   "source": [
    "class ShoppingCart:\n",
    "    def __init__(self):\n",
    "        self.items = []\n",
    "\n",
    "    def add_item(self, item):\n",
    "        self.items.append(item)\n",
    "        print(f\"Item '{item}' added to the shopping cart.\")\n",
    "\n",
    "    def remove_item(self, item):\n",
    "        if item in self.items:\n",
    "            self.items.remove(item)\n",
    "            print(f\"Item '{item}' removed from the shopping cart.\")\n",
    "        else:\n",
    "            print(f\"Item '{item}' does not exist in the shopping cart.\")\n",
    "\n",
    "    def view_cart(self):\n",
    "        if self.items:\n",
    "            print(\"Items in the shopping cart:\")\n",
    "            for item in self.items:\n",
    "                print(item)\n",
    "        else:\n",
    "            print(\"The shopping cart is empty.\")\n",
    "\n",
    "    def clear_cart(self):\n",
    "        self.items = []\n",
    "        print(\"The shopping cart has been cleared.\")\n",
    "\n",
    "\n",
    "# Creating an object of the ShoppingCart class\n",
    "cart = ShoppingCart()\n",
    "\n",
    "# Adding items to the cart\n",
    "cart.add_item(\"Laptop\")\n",
    "cart.add_item(\"Shirt\")\n",
    "cart.add_item(\"Book\")\n",
    "\n",
    "# Displaying the cart\n",
    "cart.view_cart()\n",
    "\n",
    "# Removing an item from the cart\n",
    "cart.remove_item(\"Shirt\")\n",
    "\n",
    "# Displaying the updated cart\n",
    "cart.view_cart()\n",
    "\n",
    "# Clearing the cart\n",
    "cart.clear_cart()\n",
    "\n",
    "# Displaying the cleared cart\n",
    "cart.view_cart()\n"
   ]
  },
  {
   "cell_type": "markdown",
   "id": "fa8d9ca1",
   "metadata": {},
   "source": [
    "### 10. Imagine a school management system. You have to design the \"Student\" class using\n",
    "OOP concepts.The “Student” class has the following attributes:\n",
    "a. name: Represents the name of the student.\n",
    "b. age: Represents the age of the student.\n",
    "c. grade: Represents the grade or class of the student.\n",
    "d. student_id: Represents the unique identifier for the student.\n",
    "e. attendance: Represents the attendance record of the student.\n",
    "The class should also include the following methods:\n",
    "a. update_attendance(self, date, status): Updates the attendance record of the\n",
    "student for a given date with the provided status (e.g., present or absent).\n",
    "b. get_attendance(self): Returns the attendance record of the student.\n",
    "c. get_average_attendance(self): Calculates and returns the average\n",
    "attendance percentage of the student based on their attendance record."
   ]
  },
  {
   "cell_type": "code",
   "execution_count": 7,
   "id": "6ab16493",
   "metadata": {},
   "outputs": [
    {
     "name": "stdout",
     "output_type": "stream",
     "text": [
      "Attendance Record:\n",
      "Date: 2023-06-01, Status: present\n",
      "Date: 2023-06-02, Status: absent\n",
      "Date: 2023-06-03, Status: present\n",
      "Average Attendance: 66.67%\n"
     ]
    }
   ],
   "source": [
    "class Student:\n",
    "    def __init__(self, name, age, grade, student_id):\n",
    "        self.name = name\n",
    "        self.age = age\n",
    "        self.grade = grade\n",
    "        self.student_id = student_id\n",
    "        self.attendance = {}\n",
    "\n",
    "    def update_attendance(self, date, status):\n",
    "        self.attendance[date] = status\n",
    "\n",
    "    def get_attendance(self):\n",
    "        return self.attendance\n",
    "\n",
    "    def get_average_attendance(self):\n",
    "        total_days = len(self.attendance)\n",
    "        present_days = sum(status == 'present' for status in self.attendance.values())\n",
    "        average_attendance = (present_days / total_days) * 100 if total_days > 0 else 0\n",
    "        return average_attendance\n",
    "\n",
    "\n",
    "# Creating an object of the Student class\n",
    "student = Student(\"John Doe\", 15, \"10th Grade\", \"S001\")\n",
    "\n",
    "# Updating attendance\n",
    "student.update_attendance(\"2023-06-01\", \"present\")\n",
    "student.update_attendance(\"2023-06-02\", \"absent\")\n",
    "student.update_attendance(\"2023-06-03\", \"present\")\n",
    "\n",
    "# Getting attendance\n",
    "attendance_record = student.get_attendance()\n",
    "print(\"Attendance Record:\")\n",
    "for date, status in attendance_record.items():\n",
    "    print(f\"Date: {date}, Status: {status}\")\n",
    "\n",
    "# Getting average attendance\n",
    "average_attendance = student.get_average_attendance()\n",
    "print(f\"Average Attendance: {average_attendance:.2f}%\")\n"
   ]
  },
  {
   "cell_type": "code",
   "execution_count": null,
   "id": "178dc18b",
   "metadata": {},
   "outputs": [],
   "source": []
  }
 ],
 "metadata": {
  "kernelspec": {
   "display_name": "Python 3 (ipykernel)",
   "language": "python",
   "name": "python3"
  },
  "language_info": {
   "codemirror_mode": {
    "name": "ipython",
    "version": 3
   },
   "file_extension": ".py",
   "mimetype": "text/x-python",
   "name": "python",
   "nbconvert_exporter": "python",
   "pygments_lexer": "ipython3",
   "version": "3.10.9"
  }
 },
 "nbformat": 4,
 "nbformat_minor": 5
}
